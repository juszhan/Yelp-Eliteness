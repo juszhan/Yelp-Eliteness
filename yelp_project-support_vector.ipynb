{
 "cells": [
  {
   "cell_type": "code",
   "execution_count": 1,
   "metadata": {},
   "outputs": [],
   "source": [
    "import pandas as pd\n",
    "import numpy as np\n",
    "import matplotlib.pyplot as plt\n",
    "\n",
    "from pathlib import Path\n",
    "from numpy.random import RandomState\n",
    "\n",
    "_PRNG = RandomState(0)"
   ]
  },
  {
   "cell_type": "code",
   "execution_count": 2,
   "metadata": {},
   "outputs": [
    {
     "name": "stdout",
     "output_type": "stream",
     "text": [
      "Processed file found, loading processed file...\n",
      "Number of users: 1518169\n"
     ]
    }
   ],
   "source": [
    "# Read in the Yelp user dataset, check if a preprocessed dataset exists\n",
    "_FILE_ORIGINAL_DATASET = \"yelp_academic_dataset_user.json\"\n",
    "_FILE_PROCESSED_DATASET = \"yelp_academic_dataset_user_processed.csv\"\n",
    "\n",
    "if not Path(_FILE_PROCESSED_DATASET).is_file():\n",
    "    print(\"Processed file not found, performing data preprocessing...\")\n",
    "    \n",
    "    df = pd.read_json(_FILE_ORIGINAL_DATASET, lines=True)\n",
    "    df = df.drop(columns=[\"yelping_since\", \"name\", \"user_id\"])\n",
    "    \n",
    "    # Converting friends and elite into integers\n",
    "    df[\"friends\"] = df[\"friends\"].apply(lambda x: len(x.split(\",\")) - 1)\n",
    "    df[\"elite\"] = df[\"elite\"].apply(lambda x: len(x.split(\",\")) - 1)\n",
    "    \n",
    "    df.to_csv(_FILE_PROCESSED_DATASET, index=False)\n",
    "else:\n",
    "    print(\"Processed file found, loading processed file...\")\n",
    "    df = pd.read_csv(_FILE_PROCESSED_DATASET)\n",
    "\n",
    "print(\"Number of users:\", len(df))"
   ]
  },
  {
   "cell_type": "code",
   "execution_count": 3,
   "metadata": {},
   "outputs": [
    {
     "name": "stdout",
     "output_type": "stream",
     "text": [
      "Total elite: 55938\n",
      "Total not elite: 1462231\n",
      "Percentage of elite users: 3.8255%\n"
     ]
    }
   ],
   "source": [
    "df_elite = df[df[\"elite\"] > 0]\n",
    "df_not_elite = df[df[\"elite\"] == 0]\n",
    "\n",
    "print(\"Total elite:\", len(df_elite))\n",
    "print(\"Total not elite:\", len(df_not_elite))\n",
    "print(\"Percentage of elite users: {:.05}%\".format(len(df_elite) / len(df_not_elite) * 100))"
   ]
  },
  {
   "cell_type": "code",
   "execution_count": 4,
   "metadata": {},
   "outputs": [
    {
     "name": "stdout",
     "output_type": "stream",
     "text": [
      "Subsample elite: 12500\n",
      "Subsample not elite: 12500\n"
     ]
    }
   ],
   "source": [
    "# Take a random subsample, computation constraint, SVMs have poor scalability\n",
    "SUBSAMPLE_AMOUNT = 12500\n",
    "\n",
    "df_elite = df_elite.sample(n=SUBSAMPLE_AMOUNT, replace=False, random_state=_PRNG)\n",
    "df_not_elite = df_not_elite.sample(n=SUBSAMPLE_AMOUNT, replace=False, random_state=_PRNG)\n",
    "\n",
    "df_elite = df_elite.drop(columns=[\"elite\"])\n",
    "df_not_elite = df_not_elite.drop(columns=[\"elite\"])\n",
    "print(\"Subsample elite:\", len(df_elite))\n",
    "print(\"Subsample not elite:\", len(df_not_elite))"
   ]
  },
  {
   "cell_type": "code",
   "execution_count": 5,
   "metadata": {},
   "outputs": [
    {
     "data": {
      "text/html": [
       "<div>\n",
       "<style scoped>\n",
       "    .dataframe tbody tr th:only-of-type {\n",
       "        vertical-align: middle;\n",
       "    }\n",
       "\n",
       "    .dataframe tbody tr th {\n",
       "        vertical-align: top;\n",
       "    }\n",
       "\n",
       "    .dataframe thead th {\n",
       "        text-align: right;\n",
       "    }\n",
       "</style>\n",
       "<table border=\"1\" class=\"dataframe\">\n",
       "  <thead>\n",
       "    <tr style=\"text-align: right;\">\n",
       "      <th></th>\n",
       "      <th>average_stars</th>\n",
       "      <th>compliment_cool</th>\n",
       "      <th>compliment_cute</th>\n",
       "      <th>compliment_funny</th>\n",
       "      <th>compliment_hot</th>\n",
       "      <th>compliment_list</th>\n",
       "      <th>compliment_more</th>\n",
       "      <th>compliment_note</th>\n",
       "      <th>compliment_photos</th>\n",
       "      <th>compliment_plain</th>\n",
       "      <th>compliment_profile</th>\n",
       "      <th>compliment_writer</th>\n",
       "      <th>cool</th>\n",
       "      <th>fans</th>\n",
       "      <th>friends</th>\n",
       "      <th>funny</th>\n",
       "      <th>review_count</th>\n",
       "      <th>useful</th>\n",
       "    </tr>\n",
       "  </thead>\n",
       "  <tbody>\n",
       "    <tr>\n",
       "      <th>count</th>\n",
       "      <td>12500.000000</td>\n",
       "      <td>12500.000000</td>\n",
       "      <td>12500.000000</td>\n",
       "      <td>12500.000000</td>\n",
       "      <td>12500.000000</td>\n",
       "      <td>12500.000000</td>\n",
       "      <td>12500.000000</td>\n",
       "      <td>12500.000000</td>\n",
       "      <td>12500.000000</td>\n",
       "      <td>12500.000000</td>\n",
       "      <td>12500.000000</td>\n",
       "      <td>12500.000000</td>\n",
       "      <td>12500.000000</td>\n",
       "      <td>12500.000000</td>\n",
       "      <td>12500.000000</td>\n",
       "      <td>12500.000000</td>\n",
       "      <td>12500.000000</td>\n",
       "      <td>12500.000000</td>\n",
       "    </tr>\n",
       "    <tr>\n",
       "      <th>mean</th>\n",
       "      <td>3.856266</td>\n",
       "      <td>75.190720</td>\n",
       "      <td>3.986320</td>\n",
       "      <td>75.190720</td>\n",
       "      <td>56.124400</td>\n",
       "      <td>1.643120</td>\n",
       "      <td>6.280080</td>\n",
       "      <td>29.706560</td>\n",
       "      <td>27.387680</td>\n",
       "      <td>69.964240</td>\n",
       "      <td>4.318400</td>\n",
       "      <td>27.471440</td>\n",
       "      <td>444.654640</td>\n",
       "      <td>25.855520</td>\n",
       "      <td>251.763600</td>\n",
       "      <td>300.203840</td>\n",
       "      <td>249.410960</td>\n",
       "      <td>557.358080</td>\n",
       "    </tr>\n",
       "    <tr>\n",
       "      <th>std</th>\n",
       "      <td>0.317327</td>\n",
       "      <td>385.099095</td>\n",
       "      <td>24.477307</td>\n",
       "      <td>385.099095</td>\n",
       "      <td>442.706063</td>\n",
       "      <td>10.636767</td>\n",
       "      <td>29.406216</td>\n",
       "      <td>131.053161</td>\n",
       "      <td>400.119456</td>\n",
       "      <td>359.157271</td>\n",
       "      <td>34.345995</td>\n",
       "      <td>139.925486</td>\n",
       "      <td>3736.620115</td>\n",
       "      <td>63.996614</td>\n",
       "      <td>470.215546</td>\n",
       "      <td>2439.409612</td>\n",
       "      <td>275.850836</td>\n",
       "      <td>3572.268288</td>\n",
       "    </tr>\n",
       "    <tr>\n",
       "      <th>min</th>\n",
       "      <td>2.470000</td>\n",
       "      <td>0.000000</td>\n",
       "      <td>0.000000</td>\n",
       "      <td>0.000000</td>\n",
       "      <td>0.000000</td>\n",
       "      <td>0.000000</td>\n",
       "      <td>0.000000</td>\n",
       "      <td>0.000000</td>\n",
       "      <td>0.000000</td>\n",
       "      <td>0.000000</td>\n",
       "      <td>0.000000</td>\n",
       "      <td>0.000000</td>\n",
       "      <td>0.000000</td>\n",
       "      <td>0.000000</td>\n",
       "      <td>0.000000</td>\n",
       "      <td>0.000000</td>\n",
       "      <td>1.000000</td>\n",
       "      <td>0.000000</td>\n",
       "    </tr>\n",
       "    <tr>\n",
       "      <th>25%</th>\n",
       "      <td>3.650000</td>\n",
       "      <td>4.000000</td>\n",
       "      <td>0.000000</td>\n",
       "      <td>4.000000</td>\n",
       "      <td>2.000000</td>\n",
       "      <td>0.000000</td>\n",
       "      <td>0.000000</td>\n",
       "      <td>2.000000</td>\n",
       "      <td>0.000000</td>\n",
       "      <td>3.000000</td>\n",
       "      <td>0.000000</td>\n",
       "      <td>2.000000</td>\n",
       "      <td>2.000000</td>\n",
       "      <td>5.000000</td>\n",
       "      <td>54.000000</td>\n",
       "      <td>3.000000</td>\n",
       "      <td>102.000000</td>\n",
       "      <td>14.000000</td>\n",
       "    </tr>\n",
       "    <tr>\n",
       "      <th>50%</th>\n",
       "      <td>3.855000</td>\n",
       "      <td>11.000000</td>\n",
       "      <td>0.000000</td>\n",
       "      <td>11.000000</td>\n",
       "      <td>6.000000</td>\n",
       "      <td>0.000000</td>\n",
       "      <td>2.000000</td>\n",
       "      <td>6.000000</td>\n",
       "      <td>2.000000</td>\n",
       "      <td>9.000000</td>\n",
       "      <td>0.000000</td>\n",
       "      <td>6.000000</td>\n",
       "      <td>13.000000</td>\n",
       "      <td>11.000000</td>\n",
       "      <td>128.000000</td>\n",
       "      <td>15.000000</td>\n",
       "      <td>168.000000</td>\n",
       "      <td>52.000000</td>\n",
       "    </tr>\n",
       "    <tr>\n",
       "      <th>75%</th>\n",
       "      <td>4.070000</td>\n",
       "      <td>33.000000</td>\n",
       "      <td>1.000000</td>\n",
       "      <td>33.000000</td>\n",
       "      <td>20.000000</td>\n",
       "      <td>0.000000</td>\n",
       "      <td>5.000000</td>\n",
       "      <td>17.000000</td>\n",
       "      <td>7.000000</td>\n",
       "      <td>27.000000</td>\n",
       "      <td>2.000000</td>\n",
       "      <td>16.000000</td>\n",
       "      <td>75.250000</td>\n",
       "      <td>25.000000</td>\n",
       "      <td>280.000000</td>\n",
       "      <td>69.000000</td>\n",
       "      <td>298.000000</td>\n",
       "      <td>192.000000</td>\n",
       "    </tr>\n",
       "    <tr>\n",
       "      <th>max</th>\n",
       "      <td>5.000000</td>\n",
       "      <td>18664.000000</td>\n",
       "      <td>1160.000000</td>\n",
       "      <td>18664.000000</td>\n",
       "      <td>33534.000000</td>\n",
       "      <td>508.000000</td>\n",
       "      <td>1876.000000</td>\n",
       "      <td>7280.000000</td>\n",
       "      <td>37415.000000</td>\n",
       "      <td>12411.000000</td>\n",
       "      <td>2411.000000</td>\n",
       "      <td>7972.000000</td>\n",
       "      <td>195416.000000</td>\n",
       "      <td>2311.000000</td>\n",
       "      <td>12197.000000</td>\n",
       "      <td>105547.000000</td>\n",
       "      <td>7755.000000</td>\n",
       "      <td>188759.000000</td>\n",
       "    </tr>\n",
       "  </tbody>\n",
       "</table>\n",
       "</div>"
      ],
      "text/plain": [
       "       average_stars  compliment_cool  compliment_cute  compliment_funny  \\\n",
       "count   12500.000000     12500.000000     12500.000000      12500.000000   \n",
       "mean        3.856266        75.190720         3.986320         75.190720   \n",
       "std         0.317327       385.099095        24.477307        385.099095   \n",
       "min         2.470000         0.000000         0.000000          0.000000   \n",
       "25%         3.650000         4.000000         0.000000          4.000000   \n",
       "50%         3.855000        11.000000         0.000000         11.000000   \n",
       "75%         4.070000        33.000000         1.000000         33.000000   \n",
       "max         5.000000     18664.000000      1160.000000      18664.000000   \n",
       "\n",
       "       compliment_hot  compliment_list  compliment_more  compliment_note  \\\n",
       "count    12500.000000     12500.000000     12500.000000     12500.000000   \n",
       "mean        56.124400         1.643120         6.280080        29.706560   \n",
       "std        442.706063        10.636767        29.406216       131.053161   \n",
       "min          0.000000         0.000000         0.000000         0.000000   \n",
       "25%          2.000000         0.000000         0.000000         2.000000   \n",
       "50%          6.000000         0.000000         2.000000         6.000000   \n",
       "75%         20.000000         0.000000         5.000000        17.000000   \n",
       "max      33534.000000       508.000000      1876.000000      7280.000000   \n",
       "\n",
       "       compliment_photos  compliment_plain  compliment_profile  \\\n",
       "count       12500.000000      12500.000000        12500.000000   \n",
       "mean           27.387680         69.964240            4.318400   \n",
       "std           400.119456        359.157271           34.345995   \n",
       "min             0.000000          0.000000            0.000000   \n",
       "25%             0.000000          3.000000            0.000000   \n",
       "50%             2.000000          9.000000            0.000000   \n",
       "75%             7.000000         27.000000            2.000000   \n",
       "max         37415.000000      12411.000000         2411.000000   \n",
       "\n",
       "       compliment_writer           cool          fans       friends  \\\n",
       "count       12500.000000   12500.000000  12500.000000  12500.000000   \n",
       "mean           27.471440     444.654640     25.855520    251.763600   \n",
       "std           139.925486    3736.620115     63.996614    470.215546   \n",
       "min             0.000000       0.000000      0.000000      0.000000   \n",
       "25%             2.000000       2.000000      5.000000     54.000000   \n",
       "50%             6.000000      13.000000     11.000000    128.000000   \n",
       "75%            16.000000      75.250000     25.000000    280.000000   \n",
       "max          7972.000000  195416.000000   2311.000000  12197.000000   \n",
       "\n",
       "               funny  review_count         useful  \n",
       "count   12500.000000  12500.000000   12500.000000  \n",
       "mean      300.203840    249.410960     557.358080  \n",
       "std      2439.409612    275.850836    3572.268288  \n",
       "min         0.000000      1.000000       0.000000  \n",
       "25%         3.000000    102.000000      14.000000  \n",
       "50%        15.000000    168.000000      52.000000  \n",
       "75%        69.000000    298.000000     192.000000  \n",
       "max    105547.000000   7755.000000  188759.000000  "
      ]
     },
     "execution_count": 5,
     "metadata": {},
     "output_type": "execute_result"
    }
   ],
   "source": [
    "df_elite.describe()"
   ]
  },
  {
   "cell_type": "code",
   "execution_count": 6,
   "metadata": {},
   "outputs": [
    {
     "data": {
      "text/html": [
       "<div>\n",
       "<style scoped>\n",
       "    .dataframe tbody tr th:only-of-type {\n",
       "        vertical-align: middle;\n",
       "    }\n",
       "\n",
       "    .dataframe tbody tr th {\n",
       "        vertical-align: top;\n",
       "    }\n",
       "\n",
       "    .dataframe thead th {\n",
       "        text-align: right;\n",
       "    }\n",
       "</style>\n",
       "<table border=\"1\" class=\"dataframe\">\n",
       "  <thead>\n",
       "    <tr style=\"text-align: right;\">\n",
       "      <th></th>\n",
       "      <th>average_stars</th>\n",
       "      <th>compliment_cool</th>\n",
       "      <th>compliment_cute</th>\n",
       "      <th>compliment_funny</th>\n",
       "      <th>compliment_hot</th>\n",
       "      <th>compliment_list</th>\n",
       "      <th>compliment_more</th>\n",
       "      <th>compliment_note</th>\n",
       "      <th>compliment_photos</th>\n",
       "      <th>compliment_plain</th>\n",
       "      <th>compliment_profile</th>\n",
       "      <th>compliment_writer</th>\n",
       "      <th>cool</th>\n",
       "      <th>fans</th>\n",
       "      <th>friends</th>\n",
       "      <th>funny</th>\n",
       "      <th>review_count</th>\n",
       "      <th>useful</th>\n",
       "    </tr>\n",
       "  </thead>\n",
       "  <tbody>\n",
       "    <tr>\n",
       "      <th>count</th>\n",
       "      <td>12500.000000</td>\n",
       "      <td>12500.000000</td>\n",
       "      <td>12500.000000</td>\n",
       "      <td>12500.000000</td>\n",
       "      <td>12500.000000</td>\n",
       "      <td>12500.000000</td>\n",
       "      <td>12500.000000</td>\n",
       "      <td>12500.000000</td>\n",
       "      <td>12500.000000</td>\n",
       "      <td>12500.000000</td>\n",
       "      <td>12500.000000</td>\n",
       "      <td>12500.000000</td>\n",
       "      <td>12500.000000</td>\n",
       "      <td>12500.000000</td>\n",
       "      <td>12500.000000</td>\n",
       "      <td>12500.00000</td>\n",
       "      <td>12500.000000</td>\n",
       "      <td>12500.000000</td>\n",
       "    </tr>\n",
       "    <tr>\n",
       "      <th>mean</th>\n",
       "      <td>3.729072</td>\n",
       "      <td>0.307680</td>\n",
       "      <td>0.022880</td>\n",
       "      <td>0.307680</td>\n",
       "      <td>0.175440</td>\n",
       "      <td>0.005200</td>\n",
       "      <td>0.077360</td>\n",
       "      <td>0.296560</td>\n",
       "      <td>0.091600</td>\n",
       "      <td>0.409920</td>\n",
       "      <td>0.020000</td>\n",
       "      <td>0.138560</td>\n",
       "      <td>3.499600</td>\n",
       "      <td>0.476560</td>\n",
       "      <td>34.009520</td>\n",
       "      <td>3.76216</td>\n",
       "      <td>13.759520</td>\n",
       "      <td>7.377920</td>\n",
       "    </tr>\n",
       "    <tr>\n",
       "      <th>std</th>\n",
       "      <td>1.148749</td>\n",
       "      <td>2.724821</td>\n",
       "      <td>0.230393</td>\n",
       "      <td>2.724821</td>\n",
       "      <td>1.747348</td>\n",
       "      <td>0.117533</td>\n",
       "      <td>0.423544</td>\n",
       "      <td>1.450455</td>\n",
       "      <td>1.365869</td>\n",
       "      <td>2.582561</td>\n",
       "      <td>0.181336</td>\n",
       "      <td>0.852607</td>\n",
       "      <td>151.311291</td>\n",
       "      <td>2.018518</td>\n",
       "      <td>86.916258</td>\n",
       "      <td>148.57169</td>\n",
       "      <td>33.000051</td>\n",
       "      <td>76.843755</td>\n",
       "    </tr>\n",
       "    <tr>\n",
       "      <th>min</th>\n",
       "      <td>1.000000</td>\n",
       "      <td>0.000000</td>\n",
       "      <td>0.000000</td>\n",
       "      <td>0.000000</td>\n",
       "      <td>0.000000</td>\n",
       "      <td>0.000000</td>\n",
       "      <td>0.000000</td>\n",
       "      <td>0.000000</td>\n",
       "      <td>0.000000</td>\n",
       "      <td>0.000000</td>\n",
       "      <td>0.000000</td>\n",
       "      <td>0.000000</td>\n",
       "      <td>0.000000</td>\n",
       "      <td>0.000000</td>\n",
       "      <td>0.000000</td>\n",
       "      <td>0.00000</td>\n",
       "      <td>0.000000</td>\n",
       "      <td>0.000000</td>\n",
       "    </tr>\n",
       "    <tr>\n",
       "      <th>25%</th>\n",
       "      <td>3.000000</td>\n",
       "      <td>0.000000</td>\n",
       "      <td>0.000000</td>\n",
       "      <td>0.000000</td>\n",
       "      <td>0.000000</td>\n",
       "      <td>0.000000</td>\n",
       "      <td>0.000000</td>\n",
       "      <td>0.000000</td>\n",
       "      <td>0.000000</td>\n",
       "      <td>0.000000</td>\n",
       "      <td>0.000000</td>\n",
       "      <td>0.000000</td>\n",
       "      <td>0.000000</td>\n",
       "      <td>0.000000</td>\n",
       "      <td>0.000000</td>\n",
       "      <td>0.00000</td>\n",
       "      <td>2.000000</td>\n",
       "      <td>0.000000</td>\n",
       "    </tr>\n",
       "    <tr>\n",
       "      <th>50%</th>\n",
       "      <td>4.000000</td>\n",
       "      <td>0.000000</td>\n",
       "      <td>0.000000</td>\n",
       "      <td>0.000000</td>\n",
       "      <td>0.000000</td>\n",
       "      <td>0.000000</td>\n",
       "      <td>0.000000</td>\n",
       "      <td>0.000000</td>\n",
       "      <td>0.000000</td>\n",
       "      <td>0.000000</td>\n",
       "      <td>0.000000</td>\n",
       "      <td>0.000000</td>\n",
       "      <td>0.000000</td>\n",
       "      <td>0.000000</td>\n",
       "      <td>1.000000</td>\n",
       "      <td>0.00000</td>\n",
       "      <td>5.000000</td>\n",
       "      <td>0.000000</td>\n",
       "    </tr>\n",
       "    <tr>\n",
       "      <th>75%</th>\n",
       "      <td>4.710000</td>\n",
       "      <td>0.000000</td>\n",
       "      <td>0.000000</td>\n",
       "      <td>0.000000</td>\n",
       "      <td>0.000000</td>\n",
       "      <td>0.000000</td>\n",
       "      <td>0.000000</td>\n",
       "      <td>0.000000</td>\n",
       "      <td>0.000000</td>\n",
       "      <td>0.000000</td>\n",
       "      <td>0.000000</td>\n",
       "      <td>0.000000</td>\n",
       "      <td>0.000000</td>\n",
       "      <td>0.000000</td>\n",
       "      <td>29.000000</td>\n",
       "      <td>0.00000</td>\n",
       "      <td>13.000000</td>\n",
       "      <td>2.000000</td>\n",
       "    </tr>\n",
       "    <tr>\n",
       "      <th>max</th>\n",
       "      <td>5.000000</td>\n",
       "      <td>152.000000</td>\n",
       "      <td>10.000000</td>\n",
       "      <td>152.000000</td>\n",
       "      <td>97.000000</td>\n",
       "      <td>8.000000</td>\n",
       "      <td>9.000000</td>\n",
       "      <td>59.000000</td>\n",
       "      <td>126.000000</td>\n",
       "      <td>87.000000</td>\n",
       "      <td>7.000000</td>\n",
       "      <td>34.000000</td>\n",
       "      <td>16398.000000</td>\n",
       "      <td>70.000000</td>\n",
       "      <td>2257.000000</td>\n",
       "      <td>16096.00000</td>\n",
       "      <td>1351.000000</td>\n",
       "      <td>5688.000000</td>\n",
       "    </tr>\n",
       "  </tbody>\n",
       "</table>\n",
       "</div>"
      ],
      "text/plain": [
       "       average_stars  compliment_cool  compliment_cute  compliment_funny  \\\n",
       "count   12500.000000     12500.000000     12500.000000      12500.000000   \n",
       "mean        3.729072         0.307680         0.022880          0.307680   \n",
       "std         1.148749         2.724821         0.230393          2.724821   \n",
       "min         1.000000         0.000000         0.000000          0.000000   \n",
       "25%         3.000000         0.000000         0.000000          0.000000   \n",
       "50%         4.000000         0.000000         0.000000          0.000000   \n",
       "75%         4.710000         0.000000         0.000000          0.000000   \n",
       "max         5.000000       152.000000        10.000000        152.000000   \n",
       "\n",
       "       compliment_hot  compliment_list  compliment_more  compliment_note  \\\n",
       "count    12500.000000     12500.000000     12500.000000     12500.000000   \n",
       "mean         0.175440         0.005200         0.077360         0.296560   \n",
       "std          1.747348         0.117533         0.423544         1.450455   \n",
       "min          0.000000         0.000000         0.000000         0.000000   \n",
       "25%          0.000000         0.000000         0.000000         0.000000   \n",
       "50%          0.000000         0.000000         0.000000         0.000000   \n",
       "75%          0.000000         0.000000         0.000000         0.000000   \n",
       "max         97.000000         8.000000         9.000000        59.000000   \n",
       "\n",
       "       compliment_photos  compliment_plain  compliment_profile  \\\n",
       "count       12500.000000      12500.000000        12500.000000   \n",
       "mean            0.091600          0.409920            0.020000   \n",
       "std             1.365869          2.582561            0.181336   \n",
       "min             0.000000          0.000000            0.000000   \n",
       "25%             0.000000          0.000000            0.000000   \n",
       "50%             0.000000          0.000000            0.000000   \n",
       "75%             0.000000          0.000000            0.000000   \n",
       "max           126.000000         87.000000            7.000000   \n",
       "\n",
       "       compliment_writer          cool          fans       friends  \\\n",
       "count       12500.000000  12500.000000  12500.000000  12500.000000   \n",
       "mean            0.138560      3.499600      0.476560     34.009520   \n",
       "std             0.852607    151.311291      2.018518     86.916258   \n",
       "min             0.000000      0.000000      0.000000      0.000000   \n",
       "25%             0.000000      0.000000      0.000000      0.000000   \n",
       "50%             0.000000      0.000000      0.000000      1.000000   \n",
       "75%             0.000000      0.000000      0.000000     29.000000   \n",
       "max            34.000000  16398.000000     70.000000   2257.000000   \n",
       "\n",
       "             funny  review_count        useful  \n",
       "count  12500.00000  12500.000000  12500.000000  \n",
       "mean       3.76216     13.759520      7.377920  \n",
       "std      148.57169     33.000051     76.843755  \n",
       "min        0.00000      0.000000      0.000000  \n",
       "25%        0.00000      2.000000      0.000000  \n",
       "50%        0.00000      5.000000      0.000000  \n",
       "75%        0.00000     13.000000      2.000000  \n",
       "max    16096.00000   1351.000000   5688.000000  "
      ]
     },
     "execution_count": 6,
     "metadata": {},
     "output_type": "execute_result"
    }
   ],
   "source": [
    "df_not_elite.describe()"
   ]
  },
  {
   "cell_type": "code",
   "execution_count": 7,
   "metadata": {},
   "outputs": [],
   "source": [
    "# Combine subsamples\n",
    "df_subsample_X = pd.concat([df_elite, df_not_elite], ignore_index=True, copy=True)\n",
    "df_subsample_X = df_subsample_X.astype(float)\n",
    "df_subsample_Y = [1] * len(df_elite) + [0] * len(df_not_elite)\n",
    "\n",
    "assert len(df_subsample_X) == len(df_subsample_Y), \"Err: Dataset and labels must be the same size\""
   ]
  },
  {
   "cell_type": "code",
   "execution_count": 8,
   "metadata": {},
   "outputs": [],
   "source": [
    "# Most libraries recommend a hard normalization, mapping the min and max values of a given dimension to [0,1]\n",
    "# However, a soft normalization is also feasible using StandardScaler\n",
    "# https://neerajkumar.org/writings/svm/\n",
    "# https://www.csie.ntu.edu.tw/~cjlin/papers/guide/guide.pdf\n",
    "\n",
    "from sklearn.preprocessing import MinMaxScaler\n",
    "scaler = MinMaxScaler(feature_range=(0, 1))\n",
    "\n",
    "# from sklearn.preprocessing import StandardScaler\n",
    "# scaler = StandardScaler()\n",
    "\n",
    "df_subsample_scaled_X = scaler.fit_transform(df_subsample_X)"
   ]
  },
  {
   "cell_type": "code",
   "execution_count": 9,
   "metadata": {},
   "outputs": [
    {
     "name": "stdout",
     "output_type": "stream",
     "text": [
      "Training set size: 20000\n",
      "Training label size: 20000\n",
      "Test set size: 5000\n",
      "Test label size: 5000\n"
     ]
    }
   ],
   "source": [
    "# Create 80/20 train/test split\n",
    "from sklearn.model_selection import train_test_split\n",
    "\n",
    "X_train, X_test, Y_train, Y_test = train_test_split(df_subsample_scaled_X, df_subsample_Y, test_size=0.2, stratify=df_subsample_Y, random_state=_PRNG)\n",
    "print(\"Training set size:\", len(X_train))\n",
    "print(\"Training label size:\", len(Y_train))\n",
    "print(\"Test set size:\", len(X_test))\n",
    "print(\"Test label size:\", len(Y_test))"
   ]
  },
  {
   "cell_type": "code",
   "execution_count": 10,
   "metadata": {
    "scrolled": true
   },
   "outputs": [
    {
     "name": "stdout",
     "output_type": "stream",
     "text": [
      "Result_C(C=0.03125, score_mean=0.7411492150035002, scores=array([0.739023  , 0.73630207, 0.74111675, 0.74387528, 0.74542897]))\n",
      "Result_C(C=0.0625, score_mean=0.35438547539187937, scores=array([0.42716922, 0.30756232, 0.3792964 , 0.3283208 , 0.32957864]))\n",
      "Result_C(C=0.125, score_mean=0.44981245542680404, scores=array([0.45268443, 0.45054096, 0.45496536, 0.45405405, 0.43681747]))\n",
      "Result_C(C=0.25, score_mean=0.6281775950712524, scores=array([0.63261832, 0.63633277, 0.63482385, 0.61829436, 0.61881868]))\n",
      "Result_C(C=0.5, score_mean=0.7593958409302107, scores=array([0.75965665, 0.76056338, 0.75750153, 0.75508945, 0.76416819]))\n",
      "Result_C(C=1, score_mean=0.8463585247807422, scores=array([0.84303151, 0.8470255 , 0.84326461, 0.84678561, 0.85168539]))\n",
      "Result_C(C=2, score_mean=0.8950007156395925, scores=array([0.89492072, 0.89285714, 0.89568249, 0.89684891, 0.89469432]))\n",
      "Result_C(C=4, score_mean=0.9227468462873223, scores=array([0.92118998, 0.92368008, 0.91970803, 0.92660073, 0.92255541]))\n",
      "Result_C(C=8, score_mean=0.9374897289585743, scores=array([0.94      , 0.9352518 , 0.9330254 , 0.94195858, 0.93721286]))\n",
      "Result_C(C=16, score_mean=0.9467021969904218, scores=array([0.94648745, 0.94638341, 0.94358715, 0.9520202 , 0.94503278]))\n",
      "Result_C(C=32, score_mean=0.9502621613718034, scores=array([0.9504153 , 0.95080321, 0.94705144, 0.95567243, 0.94736842]))\n",
      "Result_C(C=64, score_mean=0.953836651763656, scores=array([0.95397699, 0.95323831, 0.95169323, 0.9588426 , 0.95143213]))\n",
      "Result_C(C=128, score_mean=0.9565063094359036, scores=array([0.9556331 , 0.9574521 , 0.9540829 , 0.9604576 , 0.95490585]))\n",
      "Result_C(C=256, score_mean=0.9578142420052853, scores=array([0.95799155, 0.95852992, 0.95483871, 0.96174863, 0.95596239]))\n"
     ]
    }
   ],
   "source": [
    "# Use cross-validation to find the best C, using F1-score\n",
    "from collections import namedtuple\n",
    "from sklearn.svm import SVC\n",
    "from sklearn.model_selection import cross_val_score\n",
    "\n",
    "Result_C = namedtuple(\"Result_C\", [\"C\", \"score_mean\", \"scores\"])\n",
    "\n",
    "POSSIBLE_C = [2 ** power for power in range(-5, 9)]\n",
    "\n",
    "cross_val_results = []\n",
    "for test_C in POSSIBLE_C:\n",
    "    svm = SVC(C=test_C, kernel=\"linear\", cache_size=4000, max_iter=-1, random_state=_PRNG)\n",
    "    cv_scores = cross_val_score(svm, X_train, Y_train, cv=5, scoring='f1', n_jobs=-1)\n",
    "    cross_val_results.append(Result_C(test_C, cv_scores.mean(), cv_scores))\n",
    "    print(cross_val_results[-1])"
   ]
  },
  {
   "cell_type": "code",
   "execution_count": 11,
   "metadata": {},
   "outputs": [
    {
     "data": {
      "text/plain": [
       "Result_C(C=256, score_mean=0.9578142420052853, scores=array([0.95799155, 0.95852992, 0.95483871, 0.96174863, 0.95596239]))"
      ]
     },
     "execution_count": 11,
     "metadata": {},
     "output_type": "execute_result"
    }
   ],
   "source": [
    "best_cv = max(cross_val_results, key=lambda x: x.score_mean)\n",
    "best_cv"
   ]
  },
  {
   "cell_type": "code",
   "execution_count": 12,
   "metadata": {},
   "outputs": [
    {
     "data": {
      "text/plain": [
       "SVC(C=256, cache_size=4000, class_weight=None, coef0=0.0,\n",
       "  decision_function_shape='ovr', degree=3, gamma='auto_deprecated',\n",
       "  kernel='linear', max_iter=-1, probability=False,\n",
       "  random_state=<mtrand.RandomState object at 0x0000022C16B2BB88>,\n",
       "  shrinking=True, tol=0.001, verbose=False)"
      ]
     },
     "execution_count": 12,
     "metadata": {},
     "output_type": "execute_result"
    }
   ],
   "source": [
    "# Use the best C found from cross-validation\n",
    "svm = SVC(C=best_cv.C, kernel=\"linear\", cache_size=4000, max_iter=-1, verbose=False, random_state=_PRNG)\n",
    "svm.fit(X_train, Y_train)"
   ]
  },
  {
   "cell_type": "code",
   "execution_count": 13,
   "metadata": {},
   "outputs": [
    {
     "name": "stdout",
     "output_type": "stream",
     "text": [
      "We want to see '0' here...: 0\n"
     ]
    }
   ],
   "source": [
    "print(\"We want to see '0' here...:\", svm.fit_status_)"
   ]
  },
  {
   "cell_type": "code",
   "execution_count": 14,
   "metadata": {},
   "outputs": [
    {
     "data": {
      "text/plain": [
       "0.9544"
      ]
     },
     "execution_count": 14,
     "metadata": {},
     "output_type": "execute_result"
    }
   ],
   "source": [
    "svm.score(X_test, Y_test)"
   ]
  },
  {
   "cell_type": "code",
   "execution_count": 15,
   "metadata": {},
   "outputs": [
    {
     "name": "stdout",
     "output_type": "stream",
     "text": [
      "Baseline Accuracy (Quantile=0.5): 0.9232\n"
     ]
    }
   ],
   "source": [
    "# Baseline comparison, intuition tells us good photos or good writers should be elite\n",
    "# Take the top quantile\n",
    "_X_train = pd.DataFrame(scaler.inverse_transform(X_train), columns=df_elite.columns)\n",
    "_X_test = pd.DataFrame(scaler.inverse_transform(X_test), columns=df_elite.columns)\n",
    "\n",
    "quantile = .5\n",
    "\n",
    "train_top_quantile_writer = _X_train[\"compliment_writer\"].quantile(quantile)\n",
    "train_top_quantile_photo = _X_train[\"compliment_photos\"].quantile(quantile)\n",
    "\n",
    "Y_baseline_pred = [1 if row[\"compliment_writer\"] > train_top_quantile_writer or row[\"compliment_photos\"] > train_top_quantile_photo else 0 for _, row in _X_test.iterrows()]\n",
    "\n",
    "correct_pred_count = sum(int(pred == truth) for pred, truth in zip(Y_baseline_pred, Y_test))\n",
    "print(\"Baseline Accuracy (Quantile={}): {}\".format(quantile, correct_pred_count/len(Y_baseline_pred)))"
   ]
  },
  {
   "cell_type": "code",
   "execution_count": 16,
   "metadata": {},
   "outputs": [
    {
     "name": "stdout",
     "output_type": "stream",
     "text": [
      "Best baseline accuracy: 0.9232\n"
     ]
    },
    {
     "data": {
      "image/png": "[encoded data removed]",
      "text/plain": [
       "<Figure size 1152x576 with 1 Axes>"
      ]
     },
     "metadata": {
      "needs_background": "light"
     },
     "output_type": "display_data"
    }
   ],
   "source": [
    "# Baseline comparision, exhaustive search of quantiles\n",
    "baseline_results = []\n",
    "\n",
    "for quantile in range(0, 101, 5):\n",
    "    quantile = quantile / 100\n",
    "    train_top_mean_writer = _X_train[\"compliment_writer\"].quantile(quantile)\n",
    "    train_top_mean_photo = _X_train[\"compliment_photos\"].quantile(quantile)\n",
    "\n",
    "    Y_baseline_pred = [1 if row[\"compliment_writer\"] > train_top_mean_writer or row[\"compliment_photos\"] > train_top_mean_photo else 0 for _, row in _X_test.iterrows()]\n",
    "\n",
    "    correct_pred_count = sum(int(pred == truth) for pred, truth in zip(Y_baseline_pred, Y_test))\n",
    "    baseline_results.append(correct_pred_count / len(Y_baseline_pred))\n",
    "\n",
    "best_baseline_result = max(baseline_results)\n",
    "print(\"Best baseline accuracy:\", best_baseline_result)\n",
    "\n",
    "colors = [\"lightgreen\" if res == best_baseline_result else \"lightcoral\" for res in baseline_results]\n",
    "    \n",
    "plt.figure(figsize=(16, 8))\n",
    "plt.bar(list(range(0, 101, 5)), baseline_results, width=4, color=colors)\n",
    "plt.xticks(list(range(0, 101, 5)))\n",
    "plt.ylim(0, 1)\n",
    "plt.xlabel(\"Quantile\")\n",
    "plt.ylabel(\"Accuracy\")\n",
    "plt.title(\"Yelp Elite User Dataset - Baseline Quantile Comparision {compliment_writer | compliment_photos}\")\n",
    "plt.savefig(\"baseline_quantile_comparision.png\", bbox_inches='tight')\n",
    "plt.show()"
   ]
  },
  {
   "cell_type": "code",
   "execution_count": 17,
   "metadata": {},
   "outputs": [
    {
     "data": {
      "text/plain": [
       "array([[ 7.96262989e-01,  4.49228826e+01,  7.10542736e-15,\n",
       "         4.49228826e+01,  1.64055585e+01,  8.06299213e+00,\n",
       "         8.58336887e+01,  5.31164712e+01,  3.65372177e+00,\n",
       "         2.75368625e+01,  1.38034011e+01,  8.31309527e+01,\n",
       "        -6.90045178e+00,  1.38708191e+02,  5.70798223e+00,\n",
       "        -2.34683446e+01,  2.05850860e+02, -1.41048707e+01]])"
      ]
     },
     "execution_count": 17,
     "metadata": {},
     "output_type": "execute_result"
    }
   ],
   "source": [
    "svm.coef_"
   ]
  },
  {
   "cell_type": "code",
   "execution_count": 18,
   "metadata": {},
   "outputs": [
    {
     "data": {
      "text/plain": [
       "Index(['average_stars', 'compliment_cool', 'compliment_cute',\n",
       "       'compliment_funny', 'compliment_hot', 'compliment_list',\n",
       "       'compliment_more', 'compliment_note', 'compliment_photos',\n",
       "       'compliment_plain', 'compliment_profile', 'compliment_writer', 'cool',\n",
       "       'fans', 'friends', 'funny', 'review_count', 'useful'],\n",
       "      dtype='object')"
      ]
     },
     "execution_count": 18,
     "metadata": {},
     "output_type": "execute_result"
    }
   ],
   "source": [
    "df_elite.columns"
   ]
  },
  {
   "cell_type": "code",
   "execution_count": 19,
   "metadata": {},
   "outputs": [
    {
     "name": "stdout",
     "output_type": "stream",
     "text": [
      "average_stars        : 0.7963\n",
      "compliment_cool      : 44.9229\n",
      "compliment_cute      : 0.0000\n",
      "compliment_funny     : 44.9229\n",
      "compliment_hot       : 16.4056\n",
      "compliment_list      : 8.0630\n",
      "compliment_more      : 85.8337\n",
      "compliment_note      : 53.1165\n",
      "compliment_photos    : 3.6537\n",
      "compliment_plain     : 27.5369\n",
      "compliment_profile   : 13.8034\n",
      "compliment_writer    : 83.1310\n",
      "cool                 : -6.9005\n",
      "fans                 : 138.7082\n",
      "friends              : 5.7080\n",
      "funny                : -23.4683\n",
      "review_count         : 205.8509\n",
      "useful               : -14.1049\n"
     ]
    }
   ],
   "source": [
    "for col_name, value in zip(df_elite.columns, svm.coef_.ravel()):\n",
    "    print(\"{:20s} : {:.4f}\".format(col_name, value))"
   ]
  },
  {
   "cell_type": "code",
   "execution_count": 20,
   "metadata": {
    "scrolled": false
   },
   "outputs": [
    {
     "data": {
      "image/png": "[encoded data removed]",
      "text/plain": [
       "<Figure size 1152x576 with 1 Axes>"
      ]
     },
     "metadata": {
      "needs_background": "light"
     },
     "output_type": "display_data"
    }
   ],
   "source": [
    "# Plot SVM feature weights\n",
    "coef = svm.coef_.ravel()\n",
    "coef_sorted = np.argsort(coef)\n",
    "\n",
    "col = list(df_elite.columns)\n",
    "colors = [\"lightcoral\" if feature_weight < 0 else \"lightgreen\" for feature_weight in coef[coef_sorted]]\n",
    "\n",
    "plt.figure(figsize=(16, 8))\n",
    "plt.bar(list(range(len(coef))), coef[coef_sorted], color=colors)\n",
    "plt.xticks(np.arange(0, len(coef)), [col[idx] for idx in coef_sorted], rotation=60, ha=\"right\")\n",
    "plt.xlabel(\"Feature Name\")\n",
    "plt.ylabel(\"Feature Weight\")\n",
    "plt.title(\"Yelp Elite User Dataset - SVM / Criteria Weights\")\n",
    "plt.savefig(\"feature_weights.png\", bbox_inches='tight')\n",
    "plt.show()"
   ]
  },
  {
   "cell_type": "code",
   "execution_count": 21,
   "metadata": {},
   "outputs": [
    {
     "name": "stdout",
     "output_type": "stream",
     "text": [
      "Y_predict: 5000\n",
      "tp: 2399\n",
      "tn: 2373\n",
      "fp: 127\n",
      "fn: 101\n"
     ]
    }
   ],
   "source": [
    "# Compute confusion matrix\n",
    "from sklearn.metrics import confusion_matrix\n",
    "\n",
    "Y_predict = svm.predict(X_test)\n",
    "print(\"Y_predict:\", len(Y_predict))\n",
    "\n",
    "cnf_matrix = confusion_matrix(Y_test, Y_predict)\n",
    "\n",
    "tn, fp, fn, tp = cnf_matrix.ravel()\n",
    "\n",
    "print(\"tp: {}\\ntn: {}\\nfp: {}\\nfn: {}\".format(tp, tn, fp, fn))"
   ]
  },
  {
   "cell_type": "code",
   "execution_count": 22,
   "metadata": {},
   "outputs": [
    {
     "data": {
      "image/png": "[encoded data removed]",
      "text/plain": [
       "<Figure size 432x432 with 2 Axes>"
      ]
     },
     "metadata": {
      "needs_background": "light"
     },
     "output_type": "display_data"
    },
    {
     "data": {
      "image/png": "[encoded data removed]",
      "text/plain": [
       "<Figure size 432x432 with 2 Axes>"
      ]
     },
     "metadata": {
      "needs_background": "light"
     },
     "output_type": "display_data"
    }
   ],
   "source": [
    "# Plot confusion matrix\n",
    "# Code from: https://scikit-learn.org/stable/auto_examples/model_selection/plot_confusion_matrix.html\n",
    "import itertools\n",
    "\n",
    "def plot_confusion_matrix(cm, classes, normalize=False, title='Confusion matrix'):\n",
    "    plt.figure(figsize=(6, 6))\n",
    "    if normalize:\n",
    "        cm = cm.astype('float') / cm.sum(axis=1)[:, np.newaxis]\n",
    "\n",
    "    plt.imshow(cm, interpolation='nearest', cmap=plt.cm.Blues)\n",
    "    plt.title(title)\n",
    "    plt.colorbar()\n",
    "    tick_marks = np.arange(len(classes))\n",
    "    plt.xticks(tick_marks, classes, rotation=45, fontsize=12)\n",
    "    plt.yticks(tick_marks, classes, fontsize=12)\n",
    "\n",
    "    fmt = '.3f' if normalize else 'd'\n",
    "    thresh = cm.max() / 2.\n",
    "    for i, j in itertools.product(range(cm.shape[0]), range(cm.shape[1])):\n",
    "        plt.text(j, i, format(cm[i, j], fmt),\n",
    "                 horizontalalignment=\"center\",\n",
    "                 color=\"white\" if cm[i, j] > thresh else \"black\",\n",
    "                 fontsize=12)\n",
    "\n",
    "    plt.ylabel('True label', fontsize=12)\n",
    "    plt.xlabel('Predicted label', fontsize=12)\n",
    "    plt.tight_layout()\n",
    "    if normalize:\n",
    "        plt.savefig(\"confusion_matrix_normalized.png\", bbox_inches='tight')\n",
    "    else:\n",
    "        plt.savefig(\"confusion_matrix_non-normalized.png\", bbox_inches='tight')\n",
    "    plt.show()\n",
    "\n",
    "    \n",
    "np.set_printoptions(precision=3)\n",
    "class_names = [\"Non-elite\", \"Elite\"] \n",
    "\n",
    "# Compute confusion matrix\n",
    "plot_confusion_matrix(cnf_matrix, classes=class_names, title='Confusion Matrix (Non-normalized)')\n",
    "\n",
    "# Plot normalized confusion matrix\n",
    "plot_confusion_matrix(cnf_matrix, classes=class_names, normalize=True, title='Confusion Matrix (Normalized)')"
   ]
  },
  {
   "cell_type": "code",
   "execution_count": 23,
   "metadata": {},
   "outputs": [
    {
     "data": {
      "text/plain": [
       "array([[8.750e-01, 0.000e+00, 0.000e+00, ..., 0.000e+00, 2.966e-03,\n",
       "        0.000e+00],\n",
       "       [7.600e-01, 1.607e-04, 0.000e+00, ..., 6.632e-05, 1.070e-02,\n",
       "        2.808e-04],\n",
       "       [7.075e-01, 0.000e+00, 0.000e+00, ..., 0.000e+00, 7.608e-03,\n",
       "        0.000e+00],\n",
       "       ...,\n",
       "       [7.975e-01, 1.072e-03, 8.621e-04, ..., 0.000e+00, 8.253e-03,\n",
       "        1.060e-05],\n",
       "       [8.225e-01, 1.072e-04, 0.000e+00, ..., 9.474e-06, 5.029e-03,\n",
       "        1.589e-05],\n",
       "       [6.900e-01, 0.000e+00, 0.000e+00, ..., 1.800e-04, 8.640e-03,\n",
       "        1.589e-04]])"
      ]
     },
     "execution_count": 23,
     "metadata": {},
     "output_type": "execute_result"
    }
   ],
   "source": [
    "svm.support_vectors_"
   ]
  },
  {
   "cell_type": "code",
   "execution_count": 24,
   "metadata": {},
   "outputs": [
    {
     "data": {
      "text/plain": [
       "array([0, 1])"
      ]
     },
     "execution_count": 24,
     "metadata": {},
     "output_type": "execute_result"
    }
   ],
   "source": [
    "svm.classes_"
   ]
  },
  {
   "cell_type": "code",
   "execution_count": 25,
   "metadata": {},
   "outputs": [
    {
     "data": {
      "text/plain": [
       "array([1529, 1528])"
      ]
     },
     "execution_count": 25,
     "metadata": {},
     "output_type": "execute_result"
    }
   ],
   "source": [
    "svm.n_support_"
   ]
  },
  {
   "cell_type": "code",
   "execution_count": 26,
   "metadata": {},
   "outputs": [
    {
     "data": {
      "text/plain": [
       "array([   15,    20,    22, ..., 19966, 19972, 19994])"
      ]
     },
     "execution_count": 26,
     "metadata": {},
     "output_type": "execute_result"
    }
   ],
   "source": [
    "svm.support_"
   ]
  },
  {
   "cell_type": "code",
   "execution_count": 27,
   "metadata": {},
   "outputs": [
    {
     "name": "stdout",
     "output_type": "stream",
     "text": [
      "Non-elite support vectors: 1529\n",
      "Elite support vectors: 1528\n"
     ]
    }
   ],
   "source": [
    "# Separate support vectors\n",
    "negative_support_vectors = []\n",
    "positive_support_vectors = []\n",
    "for support_index in svm.support_:\n",
    "    if Y_train[support_index] == 0:\n",
    "        negative_support_vectors.append(X_train[support_index])\n",
    "    else:\n",
    "        positive_support_vectors.append(X_train[support_index])\n",
    "\n",
    "df_non_elite_support_vectors = pd.DataFrame(scaler.inverse_transform(negative_support_vectors), columns=df_elite.columns)\n",
    "df_elite_support_vectors = pd.DataFrame(scaler.inverse_transform(positive_support_vectors), columns=df_elite.columns)\n",
    "\n",
    "print(\"Non-elite support vectors:\", len(negative_support_vectors))        \n",
    "print(\"Elite support vectors:\", len(positive_support_vectors))"
   ]
  },
  {
   "cell_type": "code",
   "execution_count": 28,
   "metadata": {},
   "outputs": [
    {
     "data": {
      "text/html": [
       "<div>\n",
       "<style scoped>\n",
       "    .dataframe tbody tr th:only-of-type {\n",
       "        vertical-align: middle;\n",
       "    }\n",
       "\n",
       "    .dataframe tbody tr th {\n",
       "        vertical-align: top;\n",
       "    }\n",
       "\n",
       "    .dataframe thead th {\n",
       "        text-align: right;\n",
       "    }\n",
       "</style>\n",
       "<table border=\"1\" class=\"dataframe\">\n",
       "  <thead>\n",
       "    <tr style=\"text-align: right;\">\n",
       "      <th></th>\n",
       "      <th>average_stars</th>\n",
       "      <th>compliment_cool</th>\n",
       "      <th>compliment_cute</th>\n",
       "      <th>compliment_funny</th>\n",
       "      <th>compliment_hot</th>\n",
       "      <th>compliment_list</th>\n",
       "      <th>compliment_more</th>\n",
       "      <th>compliment_note</th>\n",
       "      <th>compliment_photos</th>\n",
       "      <th>compliment_plain</th>\n",
       "      <th>compliment_profile</th>\n",
       "      <th>compliment_writer</th>\n",
       "      <th>cool</th>\n",
       "      <th>fans</th>\n",
       "      <th>friends</th>\n",
       "      <th>funny</th>\n",
       "      <th>review_count</th>\n",
       "      <th>useful</th>\n",
       "    </tr>\n",
       "  </thead>\n",
       "  <tbody>\n",
       "    <tr>\n",
       "      <th>count</th>\n",
       "      <td>1529.000000</td>\n",
       "      <td>1529.000000</td>\n",
       "      <td>1529.000000</td>\n",
       "      <td>1529.000000</td>\n",
       "      <td>1529.000000</td>\n",
       "      <td>1529.000000</td>\n",
       "      <td>1529.000000</td>\n",
       "      <td>1529.000000</td>\n",
       "      <td>1529.000000</td>\n",
       "      <td>1529.000000</td>\n",
       "      <td>1529.000000</td>\n",
       "      <td>1529.000000</td>\n",
       "      <td>1529.00000</td>\n",
       "      <td>1529.000000</td>\n",
       "      <td>1529.000000</td>\n",
       "      <td>1529.000000</td>\n",
       "      <td>1529.000000</td>\n",
       "      <td>1529.000000</td>\n",
       "    </tr>\n",
       "    <tr>\n",
       "      <th>mean</th>\n",
       "      <td>3.918882</td>\n",
       "      <td>1.769130</td>\n",
       "      <td>0.124264</td>\n",
       "      <td>1.769130</td>\n",
       "      <td>0.996730</td>\n",
       "      <td>0.031393</td>\n",
       "      <td>0.398954</td>\n",
       "      <td>1.449313</td>\n",
       "      <td>0.526488</td>\n",
       "      <td>2.212557</td>\n",
       "      <td>0.119032</td>\n",
       "      <td>0.747547</td>\n",
       "      <td>13.53499</td>\n",
       "      <td>2.504251</td>\n",
       "      <td>77.308044</td>\n",
       "      <td>14.916939</td>\n",
       "      <td>58.735775</td>\n",
       "      <td>38.705036</td>\n",
       "    </tr>\n",
       "    <tr>\n",
       "      <th>std</th>\n",
       "      <td>0.531832</td>\n",
       "      <td>6.972529</td>\n",
       "      <td>0.560706</td>\n",
       "      <td>6.972529</td>\n",
       "      <td>4.434735</td>\n",
       "      <td>0.296680</td>\n",
       "      <td>1.006731</td>\n",
       "      <td>3.491981</td>\n",
       "      <td>3.667922</td>\n",
       "      <td>6.767933</td>\n",
       "      <td>0.457869</td>\n",
       "      <td>2.151122</td>\n",
       "      <td>104.34496</td>\n",
       "      <td>4.617165</td>\n",
       "      <td>158.347677</td>\n",
       "      <td>103.391078</td>\n",
       "      <td>69.774624</td>\n",
       "      <td>212.575059</td>\n",
       "    </tr>\n",
       "    <tr>\n",
       "      <th>min</th>\n",
       "      <td>1.610000</td>\n",
       "      <td>0.000000</td>\n",
       "      <td>0.000000</td>\n",
       "      <td>0.000000</td>\n",
       "      <td>0.000000</td>\n",
       "      <td>0.000000</td>\n",
       "      <td>0.000000</td>\n",
       "      <td>0.000000</td>\n",
       "      <td>0.000000</td>\n",
       "      <td>0.000000</td>\n",
       "      <td>0.000000</td>\n",
       "      <td>0.000000</td>\n",
       "      <td>0.00000</td>\n",
       "      <td>0.000000</td>\n",
       "      <td>0.000000</td>\n",
       "      <td>0.000000</td>\n",
       "      <td>1.000000</td>\n",
       "      <td>0.000000</td>\n",
       "    </tr>\n",
       "    <tr>\n",
       "      <th>25%</th>\n",
       "      <td>3.580000</td>\n",
       "      <td>0.000000</td>\n",
       "      <td>0.000000</td>\n",
       "      <td>0.000000</td>\n",
       "      <td>0.000000</td>\n",
       "      <td>0.000000</td>\n",
       "      <td>0.000000</td>\n",
       "      <td>0.000000</td>\n",
       "      <td>0.000000</td>\n",
       "      <td>0.000000</td>\n",
       "      <td>0.000000</td>\n",
       "      <td>0.000000</td>\n",
       "      <td>0.00000</td>\n",
       "      <td>0.000000</td>\n",
       "      <td>2.000000</td>\n",
       "      <td>0.000000</td>\n",
       "      <td>28.000000</td>\n",
       "      <td>1.000000</td>\n",
       "    </tr>\n",
       "    <tr>\n",
       "      <th>50%</th>\n",
       "      <td>3.960000</td>\n",
       "      <td>0.000000</td>\n",
       "      <td>0.000000</td>\n",
       "      <td>0.000000</td>\n",
       "      <td>0.000000</td>\n",
       "      <td>0.000000</td>\n",
       "      <td>0.000000</td>\n",
       "      <td>0.000000</td>\n",
       "      <td>0.000000</td>\n",
       "      <td>1.000000</td>\n",
       "      <td>0.000000</td>\n",
       "      <td>0.000000</td>\n",
       "      <td>1.00000</td>\n",
       "      <td>1.000000</td>\n",
       "      <td>21.000000</td>\n",
       "      <td>1.000000</td>\n",
       "      <td>40.000000</td>\n",
       "      <td>6.000000</td>\n",
       "    </tr>\n",
       "    <tr>\n",
       "      <th>75%</th>\n",
       "      <td>4.280000</td>\n",
       "      <td>1.000000</td>\n",
       "      <td>0.000000</td>\n",
       "      <td>1.000000</td>\n",
       "      <td>1.000000</td>\n",
       "      <td>0.000000</td>\n",
       "      <td>0.000000</td>\n",
       "      <td>1.000000</td>\n",
       "      <td>0.000000</td>\n",
       "      <td>2.000000</td>\n",
       "      <td>0.000000</td>\n",
       "      <td>1.000000</td>\n",
       "      <td>3.00000</td>\n",
       "      <td>3.000000</td>\n",
       "      <td>80.000000</td>\n",
       "      <td>5.000000</td>\n",
       "      <td>65.000000</td>\n",
       "      <td>23.000000</td>\n",
       "    </tr>\n",
       "    <tr>\n",
       "      <th>max</th>\n",
       "      <td>5.000000</td>\n",
       "      <td>152.000000</td>\n",
       "      <td>10.000000</td>\n",
       "      <td>152.000000</td>\n",
       "      <td>97.000000</td>\n",
       "      <td>8.000000</td>\n",
       "      <td>9.000000</td>\n",
       "      <td>59.000000</td>\n",
       "      <td>126.000000</td>\n",
       "      <td>87.000000</td>\n",
       "      <td>7.000000</td>\n",
       "      <td>34.000000</td>\n",
       "      <td>2843.00000</td>\n",
       "      <td>62.000000</td>\n",
       "      <td>2257.000000</td>\n",
       "      <td>2341.000000</td>\n",
       "      <td>1351.000000</td>\n",
       "      <td>5688.000000</td>\n",
       "    </tr>\n",
       "  </tbody>\n",
       "</table>\n",
       "</div>"
      ],
      "text/plain": [
       "       average_stars  compliment_cool  compliment_cute  compliment_funny  \\\n",
       "count    1529.000000      1529.000000      1529.000000       1529.000000   \n",
       "mean        3.918882         1.769130         0.124264          1.769130   \n",
       "std         0.531832         6.972529         0.560706          6.972529   \n",
       "min         1.610000         0.000000         0.000000          0.000000   \n",
       "25%         3.580000         0.000000         0.000000          0.000000   \n",
       "50%         3.960000         0.000000         0.000000          0.000000   \n",
       "75%         4.280000         1.000000         0.000000          1.000000   \n",
       "max         5.000000       152.000000        10.000000        152.000000   \n",
       "\n",
       "       compliment_hot  compliment_list  compliment_more  compliment_note  \\\n",
       "count     1529.000000      1529.000000      1529.000000      1529.000000   \n",
       "mean         0.996730         0.031393         0.398954         1.449313   \n",
       "std          4.434735         0.296680         1.006731         3.491981   \n",
       "min          0.000000         0.000000         0.000000         0.000000   \n",
       "25%          0.000000         0.000000         0.000000         0.000000   \n",
       "50%          0.000000         0.000000         0.000000         0.000000   \n",
       "75%          1.000000         0.000000         0.000000         1.000000   \n",
       "max         97.000000         8.000000         9.000000        59.000000   \n",
       "\n",
       "       compliment_photos  compliment_plain  compliment_profile  \\\n",
       "count        1529.000000       1529.000000         1529.000000   \n",
       "mean            0.526488          2.212557            0.119032   \n",
       "std             3.667922          6.767933            0.457869   \n",
       "min             0.000000          0.000000            0.000000   \n",
       "25%             0.000000          0.000000            0.000000   \n",
       "50%             0.000000          1.000000            0.000000   \n",
       "75%             0.000000          2.000000            0.000000   \n",
       "max           126.000000         87.000000            7.000000   \n",
       "\n",
       "       compliment_writer        cool         fans      friends        funny  \\\n",
       "count        1529.000000  1529.00000  1529.000000  1529.000000  1529.000000   \n",
       "mean            0.747547    13.53499     2.504251    77.308044    14.916939   \n",
       "std             2.151122   104.34496     4.617165   158.347677   103.391078   \n",
       "min             0.000000     0.00000     0.000000     0.000000     0.000000   \n",
       "25%             0.000000     0.00000     0.000000     2.000000     0.000000   \n",
       "50%             0.000000     1.00000     1.000000    21.000000     1.000000   \n",
       "75%             1.000000     3.00000     3.000000    80.000000     5.000000   \n",
       "max            34.000000  2843.00000    62.000000  2257.000000  2341.000000   \n",
       "\n",
       "       review_count       useful  \n",
       "count   1529.000000  1529.000000  \n",
       "mean      58.735775    38.705036  \n",
       "std       69.774624   212.575059  \n",
       "min        1.000000     0.000000  \n",
       "25%       28.000000     1.000000  \n",
       "50%       40.000000     6.000000  \n",
       "75%       65.000000    23.000000  \n",
       "max     1351.000000  5688.000000  "
      ]
     },
     "execution_count": 28,
     "metadata": {},
     "output_type": "execute_result"
    }
   ],
   "source": [
    "df_non_elite_support_vectors.describe()"
   ]
  },
  {
   "cell_type": "code",
   "execution_count": 29,
   "metadata": {},
   "outputs": [
    {
     "data": {
      "text/html": [
       "<div>\n",
       "<style scoped>\n",
       "    .dataframe tbody tr th:only-of-type {\n",
       "        vertical-align: middle;\n",
       "    }\n",
       "\n",
       "    .dataframe tbody tr th {\n",
       "        vertical-align: top;\n",
       "    }\n",
       "\n",
       "    .dataframe thead th {\n",
       "        text-align: right;\n",
       "    }\n",
       "</style>\n",
       "<table border=\"1\" class=\"dataframe\">\n",
       "  <thead>\n",
       "    <tr style=\"text-align: right;\">\n",
       "      <th></th>\n",
       "      <th>average_stars</th>\n",
       "      <th>compliment_cool</th>\n",
       "      <th>compliment_cute</th>\n",
       "      <th>compliment_funny</th>\n",
       "      <th>compliment_hot</th>\n",
       "      <th>compliment_list</th>\n",
       "      <th>compliment_more</th>\n",
       "      <th>compliment_note</th>\n",
       "      <th>compliment_photos</th>\n",
       "      <th>compliment_plain</th>\n",
       "      <th>compliment_profile</th>\n",
       "      <th>compliment_writer</th>\n",
       "      <th>cool</th>\n",
       "      <th>fans</th>\n",
       "      <th>friends</th>\n",
       "      <th>funny</th>\n",
       "      <th>review_count</th>\n",
       "      <th>useful</th>\n",
       "    </tr>\n",
       "  </thead>\n",
       "  <tbody>\n",
       "    <tr>\n",
       "      <th>count</th>\n",
       "      <td>1528.000000</td>\n",
       "      <td>1528.000000</td>\n",
       "      <td>1528.000000</td>\n",
       "      <td>1528.000000</td>\n",
       "      <td>1528.000000</td>\n",
       "      <td>1528.000000</td>\n",
       "      <td>1528.000000</td>\n",
       "      <td>1528.000000</td>\n",
       "      <td>1528.000000</td>\n",
       "      <td>1528.000000</td>\n",
       "      <td>1528.000000</td>\n",
       "      <td>1528.000000</td>\n",
       "      <td>1528.000000</td>\n",
       "      <td>1528.000000</td>\n",
       "      <td>1528.000000</td>\n",
       "      <td>1528.000000</td>\n",
       "      <td>1528.000000</td>\n",
       "      <td>1528.000000</td>\n",
       "    </tr>\n",
       "    <tr>\n",
       "      <th>mean</th>\n",
       "      <td>3.918410</td>\n",
       "      <td>3.913613</td>\n",
       "      <td>0.124346</td>\n",
       "      <td>3.913613</td>\n",
       "      <td>2.403796</td>\n",
       "      <td>0.041885</td>\n",
       "      <td>0.810864</td>\n",
       "      <td>2.439136</td>\n",
       "      <td>0.876309</td>\n",
       "      <td>3.087696</td>\n",
       "      <td>0.204188</td>\n",
       "      <td>2.442408</td>\n",
       "      <td>10.096204</td>\n",
       "      <td>3.324607</td>\n",
       "      <td>77.513743</td>\n",
       "      <td>8.593586</td>\n",
       "      <td>62.850785</td>\n",
       "      <td>31.917539</td>\n",
       "    </tr>\n",
       "    <tr>\n",
       "      <th>std</th>\n",
       "      <td>0.360228</td>\n",
       "      <td>4.609761</td>\n",
       "      <td>0.437573</td>\n",
       "      <td>4.609761</td>\n",
       "      <td>3.889591</td>\n",
       "      <td>0.304215</td>\n",
       "      <td>1.275003</td>\n",
       "      <td>3.086224</td>\n",
       "      <td>1.583647</td>\n",
       "      <td>4.161936</td>\n",
       "      <td>0.573534</td>\n",
       "      <td>2.996498</td>\n",
       "      <td>41.208137</td>\n",
       "      <td>2.653166</td>\n",
       "      <td>95.191640</td>\n",
       "      <td>29.419917</td>\n",
       "      <td>16.284833</td>\n",
       "      <td>79.147271</td>\n",
       "    </tr>\n",
       "    <tr>\n",
       "      <th>min</th>\n",
       "      <td>2.570000</td>\n",
       "      <td>0.000000</td>\n",
       "      <td>0.000000</td>\n",
       "      <td>0.000000</td>\n",
       "      <td>0.000000</td>\n",
       "      <td>0.000000</td>\n",
       "      <td>0.000000</td>\n",
       "      <td>0.000000</td>\n",
       "      <td>0.000000</td>\n",
       "      <td>0.000000</td>\n",
       "      <td>0.000000</td>\n",
       "      <td>0.000000</td>\n",
       "      <td>0.000000</td>\n",
       "      <td>0.000000</td>\n",
       "      <td>0.000000</td>\n",
       "      <td>0.000000</td>\n",
       "      <td>1.000000</td>\n",
       "      <td>0.000000</td>\n",
       "    </tr>\n",
       "    <tr>\n",
       "      <th>25%</th>\n",
       "      <td>3.680000</td>\n",
       "      <td>1.000000</td>\n",
       "      <td>0.000000</td>\n",
       "      <td>1.000000</td>\n",
       "      <td>0.000000</td>\n",
       "      <td>0.000000</td>\n",
       "      <td>0.000000</td>\n",
       "      <td>0.000000</td>\n",
       "      <td>0.000000</td>\n",
       "      <td>1.000000</td>\n",
       "      <td>0.000000</td>\n",
       "      <td>0.000000</td>\n",
       "      <td>0.000000</td>\n",
       "      <td>2.000000</td>\n",
       "      <td>16.000000</td>\n",
       "      <td>0.000000</td>\n",
       "      <td>51.000000</td>\n",
       "      <td>4.000000</td>\n",
       "    </tr>\n",
       "    <tr>\n",
       "      <th>50%</th>\n",
       "      <td>3.930000</td>\n",
       "      <td>3.000000</td>\n",
       "      <td>0.000000</td>\n",
       "      <td>3.000000</td>\n",
       "      <td>1.000000</td>\n",
       "      <td>0.000000</td>\n",
       "      <td>0.000000</td>\n",
       "      <td>2.000000</td>\n",
       "      <td>0.000000</td>\n",
       "      <td>2.000000</td>\n",
       "      <td>0.000000</td>\n",
       "      <td>2.000000</td>\n",
       "      <td>2.000000</td>\n",
       "      <td>3.000000</td>\n",
       "      <td>45.000000</td>\n",
       "      <td>2.000000</td>\n",
       "      <td>63.000000</td>\n",
       "      <td>11.000000</td>\n",
       "    </tr>\n",
       "    <tr>\n",
       "      <th>75%</th>\n",
       "      <td>4.180000</td>\n",
       "      <td>5.000000</td>\n",
       "      <td>0.000000</td>\n",
       "      <td>5.000000</td>\n",
       "      <td>3.000000</td>\n",
       "      <td>0.000000</td>\n",
       "      <td>1.000000</td>\n",
       "      <td>3.000000</td>\n",
       "      <td>1.000000</td>\n",
       "      <td>4.000000</td>\n",
       "      <td>0.000000</td>\n",
       "      <td>3.000000</td>\n",
       "      <td>7.000000</td>\n",
       "      <td>5.000000</td>\n",
       "      <td>101.000000</td>\n",
       "      <td>7.000000</td>\n",
       "      <td>75.000000</td>\n",
       "      <td>29.000000</td>\n",
       "    </tr>\n",
       "    <tr>\n",
       "      <th>max</th>\n",
       "      <td>5.000000</td>\n",
       "      <td>59.000000</td>\n",
       "      <td>6.000000</td>\n",
       "      <td>59.000000</td>\n",
       "      <td>49.000000</td>\n",
       "      <td>6.000000</td>\n",
       "      <td>11.000000</td>\n",
       "      <td>41.000000</td>\n",
       "      <td>19.000000</td>\n",
       "      <td>54.000000</td>\n",
       "      <td>8.000000</td>\n",
       "      <td>22.000000</td>\n",
       "      <td>847.000000</td>\n",
       "      <td>28.000000</td>\n",
       "      <td>783.000000</td>\n",
       "      <td>672.000000</td>\n",
       "      <td>103.000000</td>\n",
       "      <td>1319.000000</td>\n",
       "    </tr>\n",
       "  </tbody>\n",
       "</table>\n",
       "</div>"
      ],
      "text/plain": [
       "       average_stars  compliment_cool  compliment_cute  compliment_funny  \\\n",
       "count    1528.000000      1528.000000      1528.000000       1528.000000   \n",
       "mean        3.918410         3.913613         0.124346          3.913613   \n",
       "std         0.360228         4.609761         0.437573          4.609761   \n",
       "min         2.570000         0.000000         0.000000          0.000000   \n",
       "25%         3.680000         1.000000         0.000000          1.000000   \n",
       "50%         3.930000         3.000000         0.000000          3.000000   \n",
       "75%         4.180000         5.000000         0.000000          5.000000   \n",
       "max         5.000000        59.000000         6.000000         59.000000   \n",
       "\n",
       "       compliment_hot  compliment_list  compliment_more  compliment_note  \\\n",
       "count     1528.000000      1528.000000      1528.000000      1528.000000   \n",
       "mean         2.403796         0.041885         0.810864         2.439136   \n",
       "std          3.889591         0.304215         1.275003         3.086224   \n",
       "min          0.000000         0.000000         0.000000         0.000000   \n",
       "25%          0.000000         0.000000         0.000000         0.000000   \n",
       "50%          1.000000         0.000000         0.000000         2.000000   \n",
       "75%          3.000000         0.000000         1.000000         3.000000   \n",
       "max         49.000000         6.000000        11.000000        41.000000   \n",
       "\n",
       "       compliment_photos  compliment_plain  compliment_profile  \\\n",
       "count        1528.000000       1528.000000         1528.000000   \n",
       "mean            0.876309          3.087696            0.204188   \n",
       "std             1.583647          4.161936            0.573534   \n",
       "min             0.000000          0.000000            0.000000   \n",
       "25%             0.000000          1.000000            0.000000   \n",
       "50%             0.000000          2.000000            0.000000   \n",
       "75%             1.000000          4.000000            0.000000   \n",
       "max            19.000000         54.000000            8.000000   \n",
       "\n",
       "       compliment_writer         cool         fans      friends        funny  \\\n",
       "count        1528.000000  1528.000000  1528.000000  1528.000000  1528.000000   \n",
       "mean            2.442408    10.096204     3.324607    77.513743     8.593586   \n",
       "std             2.996498    41.208137     2.653166    95.191640    29.419917   \n",
       "min             0.000000     0.000000     0.000000     0.000000     0.000000   \n",
       "25%             0.000000     0.000000     2.000000    16.000000     0.000000   \n",
       "50%             2.000000     2.000000     3.000000    45.000000     2.000000   \n",
       "75%             3.000000     7.000000     5.000000   101.000000     7.000000   \n",
       "max            22.000000   847.000000    28.000000   783.000000   672.000000   \n",
       "\n",
       "       review_count       useful  \n",
       "count   1528.000000  1528.000000  \n",
       "mean      62.850785    31.917539  \n",
       "std       16.284833    79.147271  \n",
       "min        1.000000     0.000000  \n",
       "25%       51.000000     4.000000  \n",
       "50%       63.000000    11.000000  \n",
       "75%       75.000000    29.000000  \n",
       "max      103.000000  1319.000000  "
      ]
     },
     "execution_count": 29,
     "metadata": {},
     "output_type": "execute_result"
    }
   ],
   "source": [
    "df_elite_support_vectors.describe()"
   ]
  },
  {
   "cell_type": "code",
   "execution_count": 30,
   "metadata": {},
   "outputs": [
    {
     "name": "stdout",
     "output_type": "stream",
     "text": [
      "Non-elite Support Vector Summary\n",
      "Mean: 12306.578269757567\n",
      "std: 14586.36451623243\n",
      "Max: 290110.9749384\n",
      "Min: -64014.068216309664\n"
     ]
    }
   ],
   "source": [
    "non_elite_support_vector_sums = []\n",
    "for _, row in df_non_elite_support_vectors.iterrows():\n",
    "    row_sum = sum(feature * weight for feature, weight in zip(row, svm.coef_.ravel()))\n",
    "    non_elite_support_vector_sums.append(row_sum)\n",
    "\n",
    "print(\"Non-elite Support Vector Summary\")\n",
    "print(\"Mean:\", np.mean(non_elite_support_vector_sums))\n",
    "print(\"std:\", np.std(non_elite_support_vector_sums))\n",
    "print(\"Max:\", max(non_elite_support_vector_sums))\n",
    "print(\"Min:\", min(non_elite_support_vector_sums))"
   ]
  },
  {
   "cell_type": "code",
   "execution_count": 31,
   "metadata": {},
   "outputs": [
    {
     "name": "stdout",
     "output_type": "stream",
     "text": [
      "Elite Support Vector Summary\n",
      "Mean: 14007.705347692685\n",
      "std: 3730.3551907228443\n",
      "Max: 21585.480710182423\n",
      "Min: -24043.60904213353\n"
     ]
    }
   ],
   "source": [
    "elite_support_vector_sums = []\n",
    "for _, row in df_elite_support_vectors.iterrows():\n",
    "    row_sum = sum(feature * weight for feature, weight in zip(row, svm.coef_.ravel()))\n",
    "    elite_support_vector_sums.append(row_sum)\n",
    "\n",
    "print(\"Elite Support Vector Summary\")\n",
    "print(\"Mean:\", np.mean(elite_support_vector_sums))\n",
    "print(\"std:\", np.std(elite_support_vector_sums))\n",
    "print(\"Max:\", max(elite_support_vector_sums))\n",
    "print(\"Min:\", min(elite_support_vector_sums))"
   ]
  },
  {
   "cell_type": "code",
   "execution_count": 32,
   "metadata": {},
   "outputs": [
    {
     "data": {
      "image/png": "[encoded data removed]",
      "text/plain": [
       "<Figure size 1152x576 with 1 Axes>"
      ]
     },
     "metadata": {
      "needs_background": "light"
     },
     "output_type": "display_data"
    }
   ],
   "source": [
    "import scipy.stats as stats\n",
    "\n",
    "plt.figure(figsize=(16, 8))\n",
    "\n",
    "non_elite_support_vector_sums.sort()\n",
    "mu = np.mean(non_elite_support_vector_sums)\n",
    "sigma = np.std(non_elite_support_vector_sums)\n",
    "pdf = stats.norm.pdf(non_elite_support_vector_sums, mu, sigma)\n",
    "plt.plot(non_elite_support_vector_sums, pdf, label=\"Non-elite Normal Distribution\")\n",
    "\n",
    "elite_support_vector_sums.sort()\n",
    "mu = np.mean(elite_support_vector_sums)\n",
    "sigma = np.std(elite_support_vector_sums)\n",
    "pdf = stats.norm.pdf(elite_support_vector_sums, mu, sigma)\n",
    "plt.plot(elite_support_vector_sums, pdf, label=\"Elite Normal Distribution\")\n",
    "\n",
    "plt.xlabel(\"Feature-Weighted User Score\")\n",
    "plt.ylabel(\"Probability\")\n",
    "plt.title(\"Yelp Elite User Dataset - Support Vector Feature-Weighted User Score Normal Distribution\")\n",
    "plt.legend()\n",
    "plt.savefig(\"support_vector_score_normal_distribution.png\", bbox_inches='tight')\n",
    "plt.show()"
   ]
  },
  {
   "cell_type": "code",
   "execution_count": 33,
   "metadata": {},
   "outputs": [
    {
     "data": {
      "image/png": "[encoded data removed]",
      "text/plain": [
       "<Figure size 1152x576 with 1 Axes>"
      ]
     },
     "metadata": {
      "needs_background": "light"
     },
     "output_type": "display_data"
    }
   ],
   "source": [
    "plt.figure(figsize=(16, 8))\n",
    "\n",
    "non_elite_support_vector_sums.sort()\n",
    "mu = np.mean(non_elite_support_vector_sums)\n",
    "sigma = np.std(non_elite_support_vector_sums)\n",
    "pdf = stats.norm.pdf(non_elite_support_vector_sums, mu, sigma)\n",
    "plt.plot(non_elite_support_vector_sums, pdf, label=\"Non-elite Normal Distribution\")\n",
    "\n",
    "elite_support_vector_sums.sort()\n",
    "mu = np.mean(elite_support_vector_sums)\n",
    "sigma = np.std(elite_support_vector_sums)\n",
    "pdf = stats.norm.pdf(elite_support_vector_sums, mu, sigma)\n",
    "plt.plot(elite_support_vector_sums, pdf, label=\"Elite Normal Distribution\")\n",
    "\n",
    "plt.hist(non_elite_support_vector_sums, density=True, histtype=\"step\", label=\"Non-elite Histogram\")\n",
    "plt.hist(elite_support_vector_sums, density=True, histtype=\"step\", label=\"Elite Histogram\")\n",
    "\n",
    "plt.xlabel(\"Feature-Weighted User Score\")\n",
    "plt.ylabel(\"Probability\")\n",
    "plt.title(\"Yelp Elite User Dataset - Support Vector Feature-Weighted User Score Normal Distribution Histogram\")\n",
    "plt.legend()\n",
    "plt.savefig(\"support_vector_score_normal_distribution_histogram_density.png\", bbox_inches='tight')\n",
    "plt.show()"
   ]
  },
  {
   "cell_type": "code",
   "execution_count": 34,
   "metadata": {},
   "outputs": [
    {
     "data": {
      "image/png": "[encoded data removed]",
      "text/plain": [
       "<Figure size 1152x576 with 1 Axes>"
      ]
     },
     "metadata": {
      "needs_background": "light"
     },
     "output_type": "display_data"
    }
   ],
   "source": [
    "plt.figure(figsize=(16, 8))\n",
    "\n",
    "plt.hist(non_elite_support_vector_sums, bins=\"auto\", density=False, histtype=\"step\", label=\"Non-elite Histogram\")\n",
    "plt.hist(elite_support_vector_sums, bins=\"auto\", density=False, histtype=\"step\", label=\"Elite Histogram\")\n",
    "\n",
    "plt.xlabel(\"Feature-Weighted User Score\")\n",
    "plt.ylabel(\"Frequency\")\n",
    "plt.title(\"Yelp Elite User Dataset - Support Vector Feature-Weighted User Score Histogram\")\n",
    "plt.legend()\n",
    "plt.savefig(\"support_vector_score_histogram_auto-bin.png\", bbox_inches='tight')\n",
    "plt.show()"
   ]
  },
  {
   "cell_type": "code",
   "execution_count": 35,
   "metadata": {},
   "outputs": [
    {
     "data": {
      "image/png": "[encoded data removed]",
      "text/plain": [
       "<Figure size 1152x576 with 1 Axes>"
      ]
     },
     "metadata": {
      "needs_background": "light"
     },
     "output_type": "display_data"
    }
   ],
   "source": [
    "plt.figure(figsize=(16, 8))\n",
    "\n",
    "non_elite_support_vector_sums.sort()\n",
    "mu = np.mean(non_elite_support_vector_sums)\n",
    "sigma = np.std(non_elite_support_vector_sums)\n",
    "pdf = stats.norm.pdf(non_elite_support_vector_sums, mu, sigma)\n",
    "plt.plot(non_elite_support_vector_sums, pdf, label=\"Non-elite Normal Distribution\")\n",
    "\n",
    "elite_support_vector_sums.sort()\n",
    "mu = np.mean(elite_support_vector_sums)\n",
    "sigma = np.std(elite_support_vector_sums)\n",
    "pdf = stats.norm.pdf(elite_support_vector_sums, mu, sigma)\n",
    "plt.plot(elite_support_vector_sums, pdf, label=\"Elite Normal Distribution\")\n",
    "\n",
    "plt.hist(non_elite_support_vector_sums, bins=\"auto\", density=True, histtype=\"step\", label=\"Non-elite Histogram\")\n",
    "plt.hist(elite_support_vector_sums, bins=\"auto\", density=True, histtype=\"step\", label=\"Elite Histogram\")\n",
    "\n",
    "plt.xlabel(\"Feature-Weighted User Score\")\n",
    "plt.ylabel(\"Probability\")\n",
    "plt.title(\"Yelp Elite User Dataset - SVM / Criteria Weights\")\n",
    "plt.legend()\n",
    "plt.savefig(\"support_vector_score_normal_distribution_histogram_density_auto-bin.png\", bbox_inches='tight')\n",
    "plt.show()"
   ]
  }
 ],
 "metadata": {
  "kernelspec": {
   "display_name": "Python 3",
   "language": "python",
   "name": "python3"
  },
  "language_info": {
   "codemirror_mode": {
    "name": "ipython",
    "version": 3
   },
   "file_extension": ".py",
   "mimetype": "text/x-python",
   "name": "python",
   "nbconvert_exporter": "python",
   "pygments_lexer": "ipython3",
   "version": "3.7.1"
  }
 },
 "nbformat": 4,
 "nbformat_minor": 2
}
