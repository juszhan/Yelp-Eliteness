{
 "cells": [
  {
   "cell_type": "code",
   "execution_count": 1,
   "metadata": {},
   "outputs": [],
   "source": [
    "import pandas as pd\n",
    "import numpy as np\n",
    "import matplotlib.pyplot as plt\n",
    "\n",
    "from pathlib import Path\n",
    "from numpy.random import RandomState\n",
    "\n",
    "_PRNG = RandomState(0)"
   ]
  },
  {
   "cell_type": "code",
   "execution_count": 2,
   "metadata": {},
   "outputs": [
    {
     "name": "stdout",
     "output_type": "stream",
     "text": [
      "Processed file found, loading processed file...\n",
      "Number of users: 1518169\n"
     ]
    }
   ],
   "source": [
    "# Read in the Yelp user dataset, check if a preprocessed dataset exists\n",
    "_FILE_ORIGINAL_DATASET = \"yelp_academic_dataset_user.json\"\n",
    "_FILE_PROCESSED_DATASET = \"yelp_academic_dataset_user_processed.csv\"\n",
    "\n",
    "if not Path(_FILE_PROCESSED_DATASET).is_file():\n",
    "    print(\"Processed file not found, performing data preprocessing...\")\n",
    "    \n",
    "    df = pd.read_json(_FILE_ORIGINAL_DATASET, lines=True)\n",
    "    df = df.drop(columns=[\"yelping_since\", \"name\", \"user_id\"])\n",
    "    \n",
    "    # Converting friends and elite into integers\n",
    "    df[\"friends\"] = df[\"friends\"].apply(lambda x: len(x.split(\",\")) - 1)\n",
    "    df[\"elite\"] = df[\"elite\"].apply(lambda x: len(x.split(\",\")) - 1)\n",
    "    \n",
    "    df.to_csv(_FILE_PROCESSED_DATASET, index=False)\n",
    "else:\n",
    "    print(\"Processed file found, loading processed file...\")\n",
    "    df = pd.read_csv(_FILE_PROCESSED_DATASET)\n",
    "\n",
    "print(\"Number of users:\", len(df))"
   ]
  },
  {
   "cell_type": "code",
   "execution_count": 3,
   "metadata": {},
   "outputs": [
    {
     "name": "stdout",
     "output_type": "stream",
     "text": [
      "Total elite: 55938\n",
      "Total not elite: 1462231\n",
      "Percentage of elite users: 3.8255%\n"
     ]
    }
   ],
   "source": [
    "df_elite = df[df[\"elite\"] > 0]\n",
    "df_not_elite = df[df[\"elite\"] == 0]\n",
    "\n",
    "print(\"Total elite:\", len(df_elite))\n",
    "print(\"Total not elite:\", len(df_not_elite))\n",
    "print(\"Percentage of elite users: {:.05}%\".format(len(df_elite) / len(df_not_elite) * 100))"
   ]
  },
  {
   "cell_type": "code",
   "execution_count": 4,
   "metadata": {},
   "outputs": [
    {
     "name": "stdout",
     "output_type": "stream",
     "text": [
      "Subsample elite: 12500\n",
      "Subsample not elite: 12500\n"
     ]
    }
   ],
   "source": [
    "# Take a random subsample, computation constraint, SVMs have poor scalability\n",
    "SUBSAMPLE_AMOUNT = 12500\n",
    "\n",
    "df_elite = df_elite.sample(n=SUBSAMPLE_AMOUNT, replace=False, random_state=_PRNG)\n",
    "df_not_elite = df_not_elite.sample(n=SUBSAMPLE_AMOUNT, replace=False, random_state=_PRNG)\n",
    "\n",
    "df_elite = df_elite.drop(columns=[\"elite\"])\n",
    "df_not_elite = df_not_elite.drop(columns=[\"elite\"])\n",
    "print(\"Subsample elite:\", len(df_elite))\n",
    "print(\"Subsample not elite:\", len(df_not_elite))"
   ]
  },
  {
   "cell_type": "code",
   "execution_count": 5,
   "metadata": {},
   "outputs": [
    {
     "data": {
      "text/html": [
       "<div>\n",
       "<style scoped>\n",
       "    .dataframe tbody tr th:only-of-type {\n",
       "        vertical-align: middle;\n",
       "    }\n",
       "\n",
       "    .dataframe tbody tr th {\n",
       "        vertical-align: top;\n",
       "    }\n",
       "\n",
       "    .dataframe thead th {\n",
       "        text-align: right;\n",
       "    }\n",
       "</style>\n",
       "<table border=\"1\" class=\"dataframe\">\n",
       "  <thead>\n",
       "    <tr style=\"text-align: right;\">\n",
       "      <th></th>\n",
       "      <th>average_stars</th>\n",
       "      <th>compliment_cool</th>\n",
       "      <th>compliment_cute</th>\n",
       "      <th>compliment_funny</th>\n",
       "      <th>compliment_hot</th>\n",
       "      <th>compliment_list</th>\n",
       "      <th>compliment_more</th>\n",
       "      <th>compliment_note</th>\n",
       "      <th>compliment_photos</th>\n",
       "      <th>compliment_plain</th>\n",
       "      <th>compliment_profile</th>\n",
       "      <th>compliment_writer</th>\n",
       "      <th>cool</th>\n",
       "      <th>fans</th>\n",
       "      <th>friends</th>\n",
       "      <th>funny</th>\n",
       "      <th>review_count</th>\n",
       "      <th>useful</th>\n",
       "    </tr>\n",
       "  </thead>\n",
       "  <tbody>\n",
       "    <tr>\n",
       "      <th>count</th>\n",
       "      <td>12500.000000</td>\n",
       "      <td>12500.000000</td>\n",
       "      <td>12500.000000</td>\n",
       "      <td>12500.000000</td>\n",
       "      <td>12500.000000</td>\n",
       "      <td>12500.000000</td>\n",
       "      <td>12500.000000</td>\n",
       "      <td>12500.000000</td>\n",
       "      <td>12500.000000</td>\n",
       "      <td>12500.000000</td>\n",
       "      <td>12500.000000</td>\n",
       "      <td>12500.000000</td>\n",
       "      <td>12500.000000</td>\n",
       "      <td>12500.000000</td>\n",
       "      <td>12500.000000</td>\n",
       "      <td>12500.000000</td>\n",
       "      <td>12500.000000</td>\n",
       "      <td>12500.000000</td>\n",
       "    </tr>\n",
       "    <tr>\n",
       "      <th>mean</th>\n",
       "      <td>3.856266</td>\n",
       "      <td>75.190720</td>\n",
       "      <td>3.986320</td>\n",
       "      <td>75.190720</td>\n",
       "      <td>56.124400</td>\n",
       "      <td>1.643120</td>\n",
       "      <td>6.280080</td>\n",
       "      <td>29.706560</td>\n",
       "      <td>27.387680</td>\n",
       "      <td>69.964240</td>\n",
       "      <td>4.318400</td>\n",
       "      <td>27.471440</td>\n",
       "      <td>444.654640</td>\n",
       "      <td>25.855520</td>\n",
       "      <td>251.763600</td>\n",
       "      <td>300.203840</td>\n",
       "      <td>249.410960</td>\n",
       "      <td>557.358080</td>\n",
       "    </tr>\n",
       "    <tr>\n",
       "      <th>std</th>\n",
       "      <td>0.317327</td>\n",
       "      <td>385.099095</td>\n",
       "      <td>24.477307</td>\n",
       "      <td>385.099095</td>\n",
       "      <td>442.706063</td>\n",
       "      <td>10.636767</td>\n",
       "      <td>29.406216</td>\n",
       "      <td>131.053161</td>\n",
       "      <td>400.119456</td>\n",
       "      <td>359.157271</td>\n",
       "      <td>34.345995</td>\n",
       "      <td>139.925486</td>\n",
       "      <td>3736.620115</td>\n",
       "      <td>63.996614</td>\n",
       "      <td>470.215546</td>\n",
       "      <td>2439.409612</td>\n",
       "      <td>275.850836</td>\n",
       "      <td>3572.268288</td>\n",
       "    </tr>\n",
       "    <tr>\n",
       "      <th>min</th>\n",
       "      <td>2.470000</td>\n",
       "      <td>0.000000</td>\n",
       "      <td>0.000000</td>\n",
       "      <td>0.000000</td>\n",
       "      <td>0.000000</td>\n",
       "      <td>0.000000</td>\n",
       "      <td>0.000000</td>\n",
       "      <td>0.000000</td>\n",
       "      <td>0.000000</td>\n",
       "      <td>0.000000</td>\n",
       "      <td>0.000000</td>\n",
       "      <td>0.000000</td>\n",
       "      <td>0.000000</td>\n",
       "      <td>0.000000</td>\n",
       "      <td>0.000000</td>\n",
       "      <td>0.000000</td>\n",
       "      <td>1.000000</td>\n",
       "      <td>0.000000</td>\n",
       "    </tr>\n",
       "    <tr>\n",
       "      <th>25%</th>\n",
       "      <td>3.650000</td>\n",
       "      <td>4.000000</td>\n",
       "      <td>0.000000</td>\n",
       "      <td>4.000000</td>\n",
       "      <td>2.000000</td>\n",
       "      <td>0.000000</td>\n",
       "      <td>0.000000</td>\n",
       "      <td>2.000000</td>\n",
       "      <td>0.000000</td>\n",
       "      <td>3.000000</td>\n",
       "      <td>0.000000</td>\n",
       "      <td>2.000000</td>\n",
       "      <td>2.000000</td>\n",
       "      <td>5.000000</td>\n",
       "      <td>54.000000</td>\n",
       "      <td>3.000000</td>\n",
       "      <td>102.000000</td>\n",
       "      <td>14.000000</td>\n",
       "    </tr>\n",
       "    <tr>\n",
       "      <th>50%</th>\n",
       "      <td>3.855000</td>\n",
       "      <td>11.000000</td>\n",
       "      <td>0.000000</td>\n",
       "      <td>11.000000</td>\n",
       "      <td>6.000000</td>\n",
       "      <td>0.000000</td>\n",
       "      <td>2.000000</td>\n",
       "      <td>6.000000</td>\n",
       "      <td>2.000000</td>\n",
       "      <td>9.000000</td>\n",
       "      <td>0.000000</td>\n",
       "      <td>6.000000</td>\n",
       "      <td>13.000000</td>\n",
       "      <td>11.000000</td>\n",
       "      <td>128.000000</td>\n",
       "      <td>15.000000</td>\n",
       "      <td>168.000000</td>\n",
       "      <td>52.000000</td>\n",
       "    </tr>\n",
       "    <tr>\n",
       "      <th>75%</th>\n",
       "      <td>4.070000</td>\n",
       "      <td>33.000000</td>\n",
       "      <td>1.000000</td>\n",
       "      <td>33.000000</td>\n",
       "      <td>20.000000</td>\n",
       "      <td>0.000000</td>\n",
       "      <td>5.000000</td>\n",
       "      <td>17.000000</td>\n",
       "      <td>7.000000</td>\n",
       "      <td>27.000000</td>\n",
       "      <td>2.000000</td>\n",
       "      <td>16.000000</td>\n",
       "      <td>75.250000</td>\n",
       "      <td>25.000000</td>\n",
       "      <td>280.000000</td>\n",
       "      <td>69.000000</td>\n",
       "      <td>298.000000</td>\n",
       "      <td>192.000000</td>\n",
       "    </tr>\n",
       "    <tr>\n",
       "      <th>max</th>\n",
       "      <td>5.000000</td>\n",
       "      <td>18664.000000</td>\n",
       "      <td>1160.000000</td>\n",
       "      <td>18664.000000</td>\n",
       "      <td>33534.000000</td>\n",
       "      <td>508.000000</td>\n",
       "      <td>1876.000000</td>\n",
       "      <td>7280.000000</td>\n",
       "      <td>37415.000000</td>\n",
       "      <td>12411.000000</td>\n",
       "      <td>2411.000000</td>\n",
       "      <td>7972.000000</td>\n",
       "      <td>195416.000000</td>\n",
       "      <td>2311.000000</td>\n",
       "      <td>12197.000000</td>\n",
       "      <td>105547.000000</td>\n",
       "      <td>7755.000000</td>\n",
       "      <td>188759.000000</td>\n",
       "    </tr>\n",
       "  </tbody>\n",
       "</table>\n",
       "</div>"
      ],
      "text/plain": [
       "       average_stars  compliment_cool  compliment_cute  compliment_funny  \\\n",
       "count   12500.000000     12500.000000     12500.000000      12500.000000   \n",
       "mean        3.856266        75.190720         3.986320         75.190720   \n",
       "std         0.317327       385.099095        24.477307        385.099095   \n",
       "min         2.470000         0.000000         0.000000          0.000000   \n",
       "25%         3.650000         4.000000         0.000000          4.000000   \n",
       "50%         3.855000        11.000000         0.000000         11.000000   \n",
       "75%         4.070000        33.000000         1.000000         33.000000   \n",
       "max         5.000000     18664.000000      1160.000000      18664.000000   \n",
       "\n",
       "       compliment_hot  compliment_list  compliment_more  compliment_note  \\\n",
       "count    12500.000000     12500.000000     12500.000000     12500.000000   \n",
       "mean        56.124400         1.643120         6.280080        29.706560   \n",
       "std        442.706063        10.636767        29.406216       131.053161   \n",
       "min          0.000000         0.000000         0.000000         0.000000   \n",
       "25%          2.000000         0.000000         0.000000         2.000000   \n",
       "50%          6.000000         0.000000         2.000000         6.000000   \n",
       "75%         20.000000         0.000000         5.000000        17.000000   \n",
       "max      33534.000000       508.000000      1876.000000      7280.000000   \n",
       "\n",
       "       compliment_photos  compliment_plain  compliment_profile  \\\n",
       "count       12500.000000      12500.000000        12500.000000   \n",
       "mean           27.387680         69.964240            4.318400   \n",
       "std           400.119456        359.157271           34.345995   \n",
       "min             0.000000          0.000000            0.000000   \n",
       "25%             0.000000          3.000000            0.000000   \n",
       "50%             2.000000          9.000000            0.000000   \n",
       "75%             7.000000         27.000000            2.000000   \n",
       "max         37415.000000      12411.000000         2411.000000   \n",
       "\n",
       "       compliment_writer           cool          fans       friends  \\\n",
       "count       12500.000000   12500.000000  12500.000000  12500.000000   \n",
       "mean           27.471440     444.654640     25.855520    251.763600   \n",
       "std           139.925486    3736.620115     63.996614    470.215546   \n",
       "min             0.000000       0.000000      0.000000      0.000000   \n",
       "25%             2.000000       2.000000      5.000000     54.000000   \n",
       "50%             6.000000      13.000000     11.000000    128.000000   \n",
       "75%            16.000000      75.250000     25.000000    280.000000   \n",
       "max          7972.000000  195416.000000   2311.000000  12197.000000   \n",
       "\n",
       "               funny  review_count         useful  \n",
       "count   12500.000000  12500.000000   12500.000000  \n",
       "mean      300.203840    249.410960     557.358080  \n",
       "std      2439.409612    275.850836    3572.268288  \n",
       "min         0.000000      1.000000       0.000000  \n",
       "25%         3.000000    102.000000      14.000000  \n",
       "50%        15.000000    168.000000      52.000000  \n",
       "75%        69.000000    298.000000     192.000000  \n",
       "max    105547.000000   7755.000000  188759.000000  "
      ]
     },
     "execution_count": 5,
     "metadata": {},
     "output_type": "execute_result"
    }
   ],
   "source": [
    "df_elite.describe()"
   ]
  },
  {
   "cell_type": "code",
   "execution_count": 6,
   "metadata": {},
   "outputs": [
    {
     "data": {
      "text/html": [
       "<div>\n",
       "<style scoped>\n",
       "    .dataframe tbody tr th:only-of-type {\n",
       "        vertical-align: middle;\n",
       "    }\n",
       "\n",
       "    .dataframe tbody tr th {\n",
       "        vertical-align: top;\n",
       "    }\n",
       "\n",
       "    .dataframe thead th {\n",
       "        text-align: right;\n",
       "    }\n",
       "</style>\n",
       "<table border=\"1\" class=\"dataframe\">\n",
       "  <thead>\n",
       "    <tr style=\"text-align: right;\">\n",
       "      <th></th>\n",
       "      <th>average_stars</th>\n",
       "      <th>compliment_cool</th>\n",
       "      <th>compliment_cute</th>\n",
       "      <th>compliment_funny</th>\n",
       "      <th>compliment_hot</th>\n",
       "      <th>compliment_list</th>\n",
       "      <th>compliment_more</th>\n",
       "      <th>compliment_note</th>\n",
       "      <th>compliment_photos</th>\n",
       "      <th>compliment_plain</th>\n",
       "      <th>compliment_profile</th>\n",
       "      <th>compliment_writer</th>\n",
       "      <th>cool</th>\n",
       "      <th>fans</th>\n",
       "      <th>friends</th>\n",
       "      <th>funny</th>\n",
       "      <th>review_count</th>\n",
       "      <th>useful</th>\n",
       "    </tr>\n",
       "  </thead>\n",
       "  <tbody>\n",
       "    <tr>\n",
       "      <th>count</th>\n",
       "      <td>12500.000000</td>\n",
       "      <td>12500.000000</td>\n",
       "      <td>12500.000000</td>\n",
       "      <td>12500.000000</td>\n",
       "      <td>12500.000000</td>\n",
       "      <td>12500.000000</td>\n",
       "      <td>12500.000000</td>\n",
       "      <td>12500.000000</td>\n",
       "      <td>12500.000000</td>\n",
       "      <td>12500.000000</td>\n",
       "      <td>12500.000000</td>\n",
       "      <td>12500.000000</td>\n",
       "      <td>12500.000000</td>\n",
       "      <td>12500.000000</td>\n",
       "      <td>12500.000000</td>\n",
       "      <td>12500.00000</td>\n",
       "      <td>12500.000000</td>\n",
       "      <td>12500.000000</td>\n",
       "    </tr>\n",
       "    <tr>\n",
       "      <th>mean</th>\n",
       "      <td>3.729072</td>\n",
       "      <td>0.307680</td>\n",
       "      <td>0.022880</td>\n",
       "      <td>0.307680</td>\n",
       "      <td>0.175440</td>\n",
       "      <td>0.005200</td>\n",
       "      <td>0.077360</td>\n",
       "      <td>0.296560</td>\n",
       "      <td>0.091600</td>\n",
       "      <td>0.409920</td>\n",
       "      <td>0.020000</td>\n",
       "      <td>0.138560</td>\n",
       "      <td>3.499600</td>\n",
       "      <td>0.476560</td>\n",
       "      <td>34.009520</td>\n",
       "      <td>3.76216</td>\n",
       "      <td>13.759520</td>\n",
       "      <td>7.377920</td>\n",
       "    </tr>\n",
       "    <tr>\n",
       "      <th>std</th>\n",
       "      <td>1.148749</td>\n",
       "      <td>2.724821</td>\n",
       "      <td>0.230393</td>\n",
       "      <td>2.724821</td>\n",
       "      <td>1.747348</td>\n",
       "      <td>0.117533</td>\n",
       "      <td>0.423544</td>\n",
       "      <td>1.450455</td>\n",
       "      <td>1.365869</td>\n",
       "      <td>2.582561</td>\n",
       "      <td>0.181336</td>\n",
       "      <td>0.852607</td>\n",
       "      <td>151.311291</td>\n",
       "      <td>2.018518</td>\n",
       "      <td>86.916258</td>\n",
       "      <td>148.57169</td>\n",
       "      <td>33.000051</td>\n",
       "      <td>76.843755</td>\n",
       "    </tr>\n",
       "    <tr>\n",
       "      <th>min</th>\n",
       "      <td>1.000000</td>\n",
       "      <td>0.000000</td>\n",
       "      <td>0.000000</td>\n",
       "      <td>0.000000</td>\n",
       "      <td>0.000000</td>\n",
       "      <td>0.000000</td>\n",
       "      <td>0.000000</td>\n",
       "      <td>0.000000</td>\n",
       "      <td>0.000000</td>\n",
       "      <td>0.000000</td>\n",
       "      <td>0.000000</td>\n",
       "      <td>0.000000</td>\n",
       "      <td>0.000000</td>\n",
       "      <td>0.000000</td>\n",
       "      <td>0.000000</td>\n",
       "      <td>0.00000</td>\n",
       "      <td>0.000000</td>\n",
       "      <td>0.000000</td>\n",
       "    </tr>\n",
       "    <tr>\n",
       "      <th>25%</th>\n",
       "      <td>3.000000</td>\n",
       "      <td>0.000000</td>\n",
       "      <td>0.000000</td>\n",
       "      <td>0.000000</td>\n",
       "      <td>0.000000</td>\n",
       "      <td>0.000000</td>\n",
       "      <td>0.000000</td>\n",
       "      <td>0.000000</td>\n",
       "      <td>0.000000</td>\n",
       "      <td>0.000000</td>\n",
       "      <td>0.000000</td>\n",
       "      <td>0.000000</td>\n",
       "      <td>0.000000</td>\n",
       "      <td>0.000000</td>\n",
       "      <td>0.000000</td>\n",
       "      <td>0.00000</td>\n",
       "      <td>2.000000</td>\n",
       "      <td>0.000000</td>\n",
       "    </tr>\n",
       "    <tr>\n",
       "      <th>50%</th>\n",
       "      <td>4.000000</td>\n",
       "      <td>0.000000</td>\n",
       "      <td>0.000000</td>\n",
       "      <td>0.000000</td>\n",
       "      <td>0.000000</td>\n",
       "      <td>0.000000</td>\n",
       "      <td>0.000000</td>\n",
       "      <td>0.000000</td>\n",
       "      <td>0.000000</td>\n",
       "      <td>0.000000</td>\n",
       "      <td>0.000000</td>\n",
       "      <td>0.000000</td>\n",
       "      <td>0.000000</td>\n",
       "      <td>0.000000</td>\n",
       "      <td>1.000000</td>\n",
       "      <td>0.00000</td>\n",
       "      <td>5.000000</td>\n",
       "      <td>0.000000</td>\n",
       "    </tr>\n",
       "    <tr>\n",
       "      <th>75%</th>\n",
       "      <td>4.710000</td>\n",
       "      <td>0.000000</td>\n",
       "      <td>0.000000</td>\n",
       "      <td>0.000000</td>\n",
       "      <td>0.000000</td>\n",
       "      <td>0.000000</td>\n",
       "      <td>0.000000</td>\n",
       "      <td>0.000000</td>\n",
       "      <td>0.000000</td>\n",
       "      <td>0.000000</td>\n",
       "      <td>0.000000</td>\n",
       "      <td>0.000000</td>\n",
       "      <td>0.000000</td>\n",
       "      <td>0.000000</td>\n",
       "      <td>29.000000</td>\n",
       "      <td>0.00000</td>\n",
       "      <td>13.000000</td>\n",
       "      <td>2.000000</td>\n",
       "    </tr>\n",
       "    <tr>\n",
       "      <th>max</th>\n",
       "      <td>5.000000</td>\n",
       "      <td>152.000000</td>\n",
       "      <td>10.000000</td>\n",
       "      <td>152.000000</td>\n",
       "      <td>97.000000</td>\n",
       "      <td>8.000000</td>\n",
       "      <td>9.000000</td>\n",
       "      <td>59.000000</td>\n",
       "      <td>126.000000</td>\n",
       "      <td>87.000000</td>\n",
       "      <td>7.000000</td>\n",
       "      <td>34.000000</td>\n",
       "      <td>16398.000000</td>\n",
       "      <td>70.000000</td>\n",
       "      <td>2257.000000</td>\n",
       "      <td>16096.00000</td>\n",
       "      <td>1351.000000</td>\n",
       "      <td>5688.000000</td>\n",
       "    </tr>\n",
       "  </tbody>\n",
       "</table>\n",
       "</div>"
      ],
      "text/plain": [
       "       average_stars  compliment_cool  compliment_cute  compliment_funny  \\\n",
       "count   12500.000000     12500.000000     12500.000000      12500.000000   \n",
       "mean        3.729072         0.307680         0.022880          0.307680   \n",
       "std         1.148749         2.724821         0.230393          2.724821   \n",
       "min         1.000000         0.000000         0.000000          0.000000   \n",
       "25%         3.000000         0.000000         0.000000          0.000000   \n",
       "50%         4.000000         0.000000         0.000000          0.000000   \n",
       "75%         4.710000         0.000000         0.000000          0.000000   \n",
       "max         5.000000       152.000000        10.000000        152.000000   \n",
       "\n",
       "       compliment_hot  compliment_list  compliment_more  compliment_note  \\\n",
       "count    12500.000000     12500.000000     12500.000000     12500.000000   \n",
       "mean         0.175440         0.005200         0.077360         0.296560   \n",
       "std          1.747348         0.117533         0.423544         1.450455   \n",
       "min          0.000000         0.000000         0.000000         0.000000   \n",
       "25%          0.000000         0.000000         0.000000         0.000000   \n",
       "50%          0.000000         0.000000         0.000000         0.000000   \n",
       "75%          0.000000         0.000000         0.000000         0.000000   \n",
       "max         97.000000         8.000000         9.000000        59.000000   \n",
       "\n",
       "       compliment_photos  compliment_plain  compliment_profile  \\\n",
       "count       12500.000000      12500.000000        12500.000000   \n",
       "mean            0.091600          0.409920            0.020000   \n",
       "std             1.365869          2.582561            0.181336   \n",
       "min             0.000000          0.000000            0.000000   \n",
       "25%             0.000000          0.000000            0.000000   \n",
       "50%             0.000000          0.000000            0.000000   \n",
       "75%             0.000000          0.000000            0.000000   \n",
       "max           126.000000         87.000000            7.000000   \n",
       "\n",
       "       compliment_writer          cool          fans       friends  \\\n",
       "count       12500.000000  12500.000000  12500.000000  12500.000000   \n",
       "mean            0.138560      3.499600      0.476560     34.009520   \n",
       "std             0.852607    151.311291      2.018518     86.916258   \n",
       "min             0.000000      0.000000      0.000000      0.000000   \n",
       "25%             0.000000      0.000000      0.000000      0.000000   \n",
       "50%             0.000000      0.000000      0.000000      1.000000   \n",
       "75%             0.000000      0.000000      0.000000     29.000000   \n",
       "max            34.000000  16398.000000     70.000000   2257.000000   \n",
       "\n",
       "             funny  review_count        useful  \n",
       "count  12500.00000  12500.000000  12500.000000  \n",
       "mean       3.76216     13.759520      7.377920  \n",
       "std      148.57169     33.000051     76.843755  \n",
       "min        0.00000      0.000000      0.000000  \n",
       "25%        0.00000      2.000000      0.000000  \n",
       "50%        0.00000      5.000000      0.000000  \n",
       "75%        0.00000     13.000000      2.000000  \n",
       "max    16096.00000   1351.000000   5688.000000  "
      ]
     },
     "execution_count": 6,
     "metadata": {},
     "output_type": "execute_result"
    }
   ],
   "source": [
    "df_not_elite.describe()"
   ]
  },
  {
   "cell_type": "code",
   "execution_count": 7,
   "metadata": {},
   "outputs": [],
   "source": [
    "# Combine subsamples\n",
    "df_subsample_X = pd.concat([df_elite, df_not_elite], ignore_index=True, copy=True)\n",
    "df_subsample_X = df_subsample_X.astype(float)\n",
    "df_subsample_Y = [1] * len(df_elite) + [0] * len(df_not_elite)\n",
    "\n",
    "assert len(df_subsample_X) == len(df_subsample_Y), \"Err: Dataset and labels must be the same size\""
   ]
  },
  {
   "cell_type": "code",
   "execution_count": 8,
   "metadata": {},
   "outputs": [],
   "source": [
    "# Most libraries recommend a hard normalization, mapping the min and max values of a given dimension to [0,1]\n",
    "# However, a soft normalization is also feasible using StandardScaler\n",
    "# https://neerajkumar.org/writings/svm/\n",
    "# https://www.csie.ntu.edu.tw/~cjlin/papers/guide/guide.pdf\n",
    "\n",
    "# from sklearn.preprocessing import MinMaxScaler\n",
    "# scalar = MinMaxScaler(feature_range=(0, 1))\n",
    "\n",
    "from sklearn.preprocessing import StandardScaler\n",
    "scalar = StandardScaler()\n",
    "\n",
    "df_subsample_scaled_X = scalar.fit_transform(df_subsample_X)"
   ]
  },
  {
   "cell_type": "code",
   "execution_count": 9,
   "metadata": {},
   "outputs": [
    {
     "name": "stdout",
     "output_type": "stream",
     "text": [
      "Training set size: 20000\n",
      "Training label size: 20000\n",
      "Test set size: 5000\n",
      "Test label size: 5000\n"
     ]
    }
   ],
   "source": [
    "# Create 80/20 train/test split\n",
    "from sklearn.model_selection import train_test_split\n",
    "\n",
    "X_train, X_test, Y_train, Y_test = train_test_split(df_subsample_scaled_X, df_subsample_Y, test_size=0.2, stratify=df_subsample_Y, random_state=_PRNG)\n",
    "print(\"Training set size:\", len(X_train))\n",
    "print(\"Training label size:\", len(Y_train))\n",
    "print(\"Test set size:\", len(X_test))\n",
    "print(\"Test label size:\", len(Y_test))"
   ]
  },
  {
   "cell_type": "code",
   "execution_count": 10,
   "metadata": {
    "scrolled": true
   },
   "outputs": [
    {
     "name": "stdout",
     "output_type": "stream",
     "text": [
      "Result_C(C=0.03125, score_mean=0.9540048057638643, scores=array([0.95369212, 0.95288221, 0.95247624, 0.95976006, 0.95121341]))\n",
      "Result_C(C=0.0625, score_mean=0.9570063096858561, scores=array([0.95684709, 0.95456815, 0.95496392, 0.9626494 , 0.95600298]))\n",
      "Result_C(C=0.125, score_mean=0.9583361765566509, scores=array([0.95814649, 0.95587135, 0.9565649 , 0.96373572, 0.95736242]))\n",
      "Result_C(C=0.25, score_mean=0.9598257242819482, scores=array([0.9604576 , 0.95797065, 0.95708261, 0.96448969, 0.95912807]))\n",
      "Result_C(C=0.5, score_mean=0.9607897722286751, scores=array([0.9622454 , 0.95803328, 0.95755771, 0.96450732, 0.96160515]))\n",
      "Result_C(C=1, score_mean=0.9618014212961699, scores=array([0.96399305, 0.95844737, 0.9582505 , 0.96550012, 0.96281606]))\n",
      "Result_C(C=2, score_mean=0.962041295097477, scores=array([0.96425025, 0.95868591, 0.95876801, 0.96546584, 0.96303647]))\n",
      "Result_C(C=4, score_mean=0.9622289425817311, scores=array([0.96498634, 0.95888363, 0.96005954, 0.96520875, 0.96200646]))\n",
      "Result_C(C=8, score_mean=0.9626119493083956, scores=array([0.96568871, 0.95962114, 0.96051651, 0.96419692, 0.96303647]))\n",
      "Result_C(C=16, score_mean=0.9627032506853517, scores=array([0.96567164, 0.95934148, 0.96075509, 0.96445439, 0.96329365]))\n",
      "Result_C(C=32, score_mean=0.9625374875872129, scores=array([0.96591192, 0.95932119, 0.96049689, 0.96393932, 0.96301812]))\n",
      "Result_C(C=64, score_mean=0.9625820477971523, scores=array([0.96513944, 0.95956066, 0.96051651, 0.9641791 , 0.96351452]))\n",
      "Result_C(C=128, score_mean=0.9624349011736975, scores=array([0.96513944, 0.95956066, 0.96001987, 0.9641791 , 0.96327543]))\n",
      "Result_C(C=256, score_mean=0.962420318458974, scores=array([0.96512207, 0.95956066, 0.96      , 0.96414343, 0.96327543]))\n"
     ]
    }
   ],
   "source": [
    "# Use cross-validation to find the best C, using F1-score\n",
    "from collections import namedtuple\n",
    "from sklearn.svm import SVC\n",
    "from sklearn.model_selection import cross_val_score\n",
    "\n",
    "Result_C = namedtuple(\"Result_C\", [\"C\", \"score_mean\", \"scores\"])\n",
    "\n",
    "POSSIBLE_C = [2 ** power for power in range(-5, 9)]\n",
    "\n",
    "cross_val_results = []\n",
    "for test_C in POSSIBLE_C:\n",
    "    svm = SVC(C=test_C, kernel=\"linear\", cache_size=4000, max_iter=-1, random_state=_PRNG)\n",
    "    cv_scores = cross_val_score(svm, X_train, Y_train, cv=5, scoring='f1', n_jobs=-1)\n",
    "    cross_val_results.append(Result_C(test_C, cv_scores.mean(), cv_scores))\n",
    "    print(cross_val_results[-1])"
   ]
  },
  {
   "cell_type": "code",
   "execution_count": 11,
   "metadata": {},
   "outputs": [
    {
     "data": {
      "text/plain": [
       "Result_C(C=16, score_mean=0.9627032506853517, scores=array([0.96567164, 0.95934148, 0.96075509, 0.96445439, 0.96329365]))"
      ]
     },
     "execution_count": 11,
     "metadata": {},
     "output_type": "execute_result"
    }
   ],
   "source": [
    "best_cv = max(cross_val_results, key=lambda x: x.score_mean)\n",
    "best_cv"
   ]
  },
  {
   "cell_type": "code",
   "execution_count": 12,
   "metadata": {},
   "outputs": [
    {
     "data": {
      "text/plain": [
       "SVC(C=16, cache_size=4000, class_weight=None, coef0=0.0,\n",
       "  decision_function_shape='ovr', degree=3, gamma='auto_deprecated',\n",
       "  kernel='linear', max_iter=-1, probability=False,\n",
       "  random_state=<mtrand.RandomState object at 0x000002096F9B9A20>,\n",
       "  shrinking=True, tol=0.001, verbose=False)"
      ]
     },
     "execution_count": 12,
     "metadata": {},
     "output_type": "execute_result"
    }
   ],
   "source": [
    "# Use the best C found from cross-validation\n",
    "svm = SVC(C=best_cv.C, kernel=\"linear\", cache_size=4000, max_iter=-1, verbose=False, random_state=_PRNG)\n",
    "svm.fit(X_train, Y_train)"
   ]
  },
  {
   "cell_type": "code",
   "execution_count": 13,
   "metadata": {},
   "outputs": [
    {
     "name": "stdout",
     "output_type": "stream",
     "text": [
      "We want to see '0' here...: 0\n"
     ]
    }
   ],
   "source": [
    "print(\"We want to see '0' here...:\", svm.fit_status_)"
   ]
  },
  {
   "cell_type": "code",
   "execution_count": 14,
   "metadata": {},
   "outputs": [
    {
     "data": {
      "text/plain": [
       "0.9604"
      ]
     },
     "execution_count": 14,
     "metadata": {},
     "output_type": "execute_result"
    }
   ],
   "source": [
    "svm.score(X_test, Y_test)"
   ]
  },
  {
   "cell_type": "code",
   "execution_count": 15,
   "metadata": {},
   "outputs": [
    {
     "name": "stdout",
     "output_type": "stream",
     "text": [
      "Baseline Accuracy (Quantile=0.5): 0.9232\n"
     ]
    }
   ],
   "source": [
    "# Baseline comparison, intuition tells us good photos or good writers should be elite\n",
    "# Take the top quantile\n",
    "_X_train = pd.DataFrame(scalar.inverse_transform(X_train), columns=df_elite.columns)\n",
    "_X_test = pd.DataFrame(scalar.inverse_transform(X_test), columns=df_elite.columns)\n",
    "\n",
    "quantile = .5\n",
    "\n",
    "train_top_quantile_writer = _X_train[\"compliment_writer\"].quantile(quantile)\n",
    "train_top_quantile_photo = _X_train[\"compliment_photos\"].quantile(quantile)\n",
    "\n",
    "Y_baseline_pred = [1 if row[\"compliment_writer\"] > train_top_quantile_writer or row[\"compliment_photos\"] > train_top_quantile_photo else 0 for _, row in _X_test.iterrows()]\n",
    "\n",
    "correct_pred_count = sum(int(pred == truth) for pred, truth in zip(Y_baseline_pred, Y_test))\n",
    "print(\"Baseline Accuracy (Quantile={}): {}\".format(quantile, correct_pred_count/len(Y_baseline_pred)))"
   ]
  },
  {
   "cell_type": "code",
   "execution_count": 16,
   "metadata": {},
   "outputs": [
    {
     "name": "stdout",
     "output_type": "stream",
     "text": [
      "Best baseline result: 0.9232\n"
     ]
    },
    {
     "data": {
      "image/png": "[encoded data removed]",
      "text/plain": [
       "<Figure size 1152x576 with 1 Axes>"
      ]
     },
     "metadata": {
      "needs_background": "light"
     },
     "output_type": "display_data"
    }
   ],
   "source": [
    "# Baseline comparision, exhaustive search of quantiles\n",
    "baseline_results = []\n",
    "\n",
    "for quantile in range(0, 101, 5):\n",
    "    quantile = quantile / 100\n",
    "    train_top_mean_writer = _X_train[\"compliment_writer\"].quantile(quantile)\n",
    "    train_top_mean_photo = _X_train[\"compliment_photos\"].quantile(quantile)\n",
    "\n",
    "    Y_baseline_pred = [1 if row[\"compliment_writer\"] > train_top_mean_writer or row[\"compliment_photos\"] > train_top_mean_photo else 0 for _, row in _X_test.iterrows()]\n",
    "\n",
    "    correct_pred_count = sum(int(pred == truth) for pred, truth in zip(Y_baseline_pred, Y_test))\n",
    "    baseline_results.append(correct_pred_count / len(Y_baseline_pred))\n",
    "\n",
    "best_baseline_result = max(baseline_results)\n",
    "print(\"Best baseline result:\", best_baseline_result)\n",
    "\n",
    "colors = [\"lightgreen\" if res == best_baseline_result else \"lightcoral\" for res in baseline_results]\n",
    "    \n",
    "plt.figure(figsize=(16, 8))\n",
    "plt.bar(list(range(0, 101, 5)), baseline_results, width=4, color=colors)\n",
    "plt.xticks(list(range(0, 101, 5)))\n",
    "plt.ylim(0, 1)\n",
    "plt.xlabel(\"Quantile\")\n",
    "plt.ylabel(\"Accuracy\")\n",
    "plt.title(\"Yelp Elite User Dataset - Baseline Quantile Comparision {compliment_writer | compliment_photos}\")\n",
    "plt.savefig(\"baseline_quantile_comparision.png\", bbox_inches='tight')\n",
    "plt.show()"
   ]
  },
  {
   "cell_type": "code",
   "execution_count": 17,
   "metadata": {},
   "outputs": [
    {
     "data": {
      "text/plain": [
       "array([[ 0.22013733,  8.10331166, -3.43259983,  8.10331166,  3.37573929,\n",
       "        -1.79750591,  2.74736092,  1.53570403,  3.97331007, -3.04427986,\n",
       "        -0.1227823 , 21.74572014, -0.53363051,  3.02077841,  0.11883327,\n",
       "        -2.60159627,  5.07111387, -0.60823155]])"
      ]
     },
     "execution_count": 17,
     "metadata": {},
     "output_type": "execute_result"
    }
   ],
   "source": [
    "svm.coef_"
   ]
  },
  {
   "cell_type": "code",
   "execution_count": 18,
   "metadata": {},
   "outputs": [
    {
     "data": {
      "text/plain": [
       "Index(['average_stars', 'compliment_cool', 'compliment_cute',\n",
       "       'compliment_funny', 'compliment_hot', 'compliment_list',\n",
       "       'compliment_more', 'compliment_note', 'compliment_photos',\n",
       "       'compliment_plain', 'compliment_profile', 'compliment_writer', 'cool',\n",
       "       'fans', 'friends', 'funny', 'review_count', 'useful'],\n",
       "      dtype='object')"
      ]
     },
     "execution_count": 18,
     "metadata": {},
     "output_type": "execute_result"
    }
   ],
   "source": [
    "df_elite.columns"
   ]
  },
  {
   "cell_type": "code",
   "execution_count": 19,
   "metadata": {},
   "outputs": [
    {
     "name": "stdout",
     "output_type": "stream",
     "text": [
      "average_stars        : 0.2201\n",
      "compliment_cool      : 8.1033\n",
      "compliment_cute      : -3.4326\n",
      "compliment_funny     : 8.1033\n",
      "compliment_hot       : 3.3757\n",
      "compliment_list      : -1.7975\n",
      "compliment_more      : 2.7474\n",
      "compliment_note      : 1.5357\n",
      "compliment_photos    : 3.9733\n",
      "compliment_plain     : -3.0443\n",
      "compliment_profile   : -0.1228\n",
      "compliment_writer    : 21.7457\n",
      "cool                 : -0.5336\n",
      "fans                 : 3.0208\n",
      "friends              : 0.1188\n",
      "funny                : -2.6016\n",
      "review_count         : 5.0711\n",
      "useful               : -0.6082\n"
     ]
    }
   ],
   "source": [
    "for col_name, value in zip(df_elite.columns, svm.coef_.ravel()):\n",
    "    print(\"{:20s} : {:.4f}\".format(col_name, value))"
   ]
  },
  {
   "cell_type": "code",
   "execution_count": 20,
   "metadata": {},
   "outputs": [
    {
     "data": {
      "image/png": "[encoded data removed]",
      "text/plain": [
       "<Figure size 1152x576 with 1 Axes>"
      ]
     },
     "metadata": {
      "needs_background": "light"
     },
     "output_type": "display_data"
    }
   ],
   "source": [
    "# Plot SVM feature weights\n",
    "coef = svm.coef_.ravel()\n",
    "coef_sorted = np.argsort(coef)\n",
    "\n",
    "col = list(df_elite.columns)\n",
    "colors = [\"lightcoral\" if feature_weight < 0 else \"lightgreen\" for feature_weight in coef[coef_sorted]]\n",
    "\n",
    "plt.figure(figsize=(16, 8))\n",
    "plt.bar(list(range(len(coef))), coef[coef_sorted], color=colors)\n",
    "plt.xticks(np.arange(0, len(coef)), [col[idx] for idx in coef_sorted], rotation=60, ha=\"right\")\n",
    "plt.xlabel(\"Feature Name\")\n",
    "plt.ylabel(\"Feature Weight\")\n",
    "plt.title(\"Yelp Elite User Dataset - SVM / Criteria Weights\")\n",
    "plt.savefig(\"feature_weights.png\", bbox_inches='tight')\n",
    "plt.show()"
   ]
  },
  {
   "cell_type": "code",
   "execution_count": 21,
   "metadata": {},
   "outputs": [
    {
     "name": "stdout",
     "output_type": "stream",
     "text": [
      "Y_predict: 5000\n",
      "tp: 2407\n",
      "tn: 2395\n",
      "fp: 105\n",
      "fn: 93\n"
     ]
    }
   ],
   "source": [
    "# Compute confusion matrix\n",
    "from sklearn.metrics import confusion_matrix\n",
    "\n",
    "Y_predict = svm.predict(X_test)\n",
    "print(\"Y_predict:\", len(Y_predict))\n",
    "\n",
    "cnf_matrix = confusion_matrix(Y_test, Y_predict)\n",
    "\n",
    "tn, fp, fn, tp = cnf_matrix.ravel()\n",
    "\n",
    "print(\"tp: {}\\ntn: {}\\nfp: {}\\nfn: {}\".format(tp, tn, fp, fn))"
   ]
  },
  {
   "cell_type": "code",
   "execution_count": 22,
   "metadata": {},
   "outputs": [
    {
     "data": {
      "image/png": "[encoded data removed]",
      "text/plain": [
       "<Figure size 432x432 with 2 Axes>"
      ]
     },
     "metadata": {
      "needs_background": "light"
     },
     "output_type": "display_data"
    },
    {
     "data": {
      "image/png": "[encoded data removed]",
      "text/plain": [
       "<Figure size 432x432 with 2 Axes>"
      ]
     },
     "metadata": {
      "needs_background": "light"
     },
     "output_type": "display_data"
    }
   ],
   "source": [
    "# Plot confusion matrix\n",
    "# Code from: https://scikit-learn.org/stable/auto_examples/model_selection/plot_confusion_matrix.html\n",
    "import itertools\n",
    "\n",
    "def plot_confusion_matrix(cm, classes, normalize=False, title='Confusion matrix'):\n",
    "    plt.figure(figsize=(6, 6))\n",
    "    if normalize:\n",
    "        cm = cm.astype('float') / cm.sum(axis=1)[:, np.newaxis]\n",
    "\n",
    "    plt.imshow(cm, interpolation='nearest', cmap=plt.cm.Blues)\n",
    "    plt.title(title)\n",
    "    plt.colorbar()\n",
    "    tick_marks = np.arange(len(classes))\n",
    "    plt.xticks(tick_marks, classes, rotation=45, fontsize=12)\n",
    "    plt.yticks(tick_marks, classes, fontsize=12)\n",
    "\n",
    "    fmt = '.3f' if normalize else 'd'\n",
    "    thresh = cm.max() / 2.\n",
    "    for i, j in itertools.product(range(cm.shape[0]), range(cm.shape[1])):\n",
    "        plt.text(j, i, format(cm[i, j], fmt),\n",
    "                 horizontalalignment=\"center\",\n",
    "                 color=\"white\" if cm[i, j] > thresh else \"black\",\n",
    "                 fontsize=12)\n",
    "\n",
    "    plt.ylabel('True label', fontsize=12)\n",
    "    plt.xlabel('Predicted label', fontsize=12)\n",
    "    plt.tight_layout()\n",
    "    if normalize:\n",
    "        plt.savefig(\"confusion_matrix_normalized.png\", bbox_inches='tight')\n",
    "    else:\n",
    "        plt.savefig(\"confusion_matrix_non-normalized.png\", bbox_inches='tight')\n",
    "    plt.show()\n",
    "\n",
    "    \n",
    "np.set_printoptions(precision=3)\n",
    "class_names = [\"Non-elite\", \"Elite\"] \n",
    "\n",
    "# Compute confusion matrix\n",
    "plot_confusion_matrix(cnf_matrix, classes=class_names, title='Confusion Matrix (Non-normalized)')\n",
    "\n",
    "# Plot normalized confusion matrix\n",
    "plot_confusion_matrix(cnf_matrix, classes=class_names, normalize=True, title='Confusion Matrix (Normalized)')"
   ]
  }
 ],
 "metadata": {
  "kernelspec": {
   "display_name": "Python 3",
   "language": "python",
   "name": "python3"
  },
  "language_info": {
   "codemirror_mode": {
    "name": "ipython",
    "version": 3
   },
   "file_extension": ".py",
   "mimetype": "text/x-python",
   "name": "python",
   "nbconvert_exporter": "python",
   "pygments_lexer": "ipython3",
   "version": "3.7.1"
  }
 },
 "nbformat": 4,
 "nbformat_minor": 2
}
